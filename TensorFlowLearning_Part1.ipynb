{
  "nbformat": 4,
  "nbformat_minor": 0,
  "metadata": {
    "colab": {
      "provenance": [],
      "collapsed_sections": [
        "KUw1M8eVdvEB",
        "1LbPya2Nd0xy",
        "eUmWEYXrKOVP"
      ],
      "gpuType": "T4"
    },
    "kernelspec": {
      "name": "python3",
      "display_name": "Python 3"
    },
    "language_info": {
      "name": "python"
    },
    "accelerator": "GPU"
  },
  "cells": [
    {
      "cell_type": "code",
      "execution_count": 1,
      "metadata": {
        "id": "8LEwiSm5pyZS"
      },
      "outputs": [],
      "source": [
        "import tensorflow as  tf\n",
        "from tensorflow import keras\n",
        "from tensorflow.keras import layers, regularizers"
      ]
    },
    {
      "cell_type": "code",
      "source": [
        "tf.__version__"
      ],
      "metadata": {
        "id": "RqsMNhdRqRy-",
        "outputId": "86ea7358-241d-443b-de65-7d9b31b6f10c",
        "colab": {
          "base_uri": "https://localhost:8080/",
          "height": 36
        }
      },
      "execution_count": null,
      "outputs": [
        {
          "output_type": "execute_result",
          "data": {
            "text/plain": [
              "'2.18.0'"
            ],
            "application/vnd.google.colaboratory.intrinsic+json": {
              "type": "string"
            }
          },
          "metadata": {},
          "execution_count": 2
        }
      ]
    },
    {
      "cell_type": "markdown",
      "source": [
        "# Basics"
      ],
      "metadata": {
        "id": "KUw1M8eVdvEB"
      }
    },
    {
      "cell_type": "code",
      "source": [
        "x = tf.constant([4,2],shape = (1,2), dtype=tf.float32)\n",
        "print(x)"
      ],
      "metadata": {
        "id": "E3DoUk9wqTtz",
        "colab": {
          "base_uri": "https://localhost:8080/"
        },
        "outputId": "6bf040d8-1f8d-41c6-ff00-908b12e92a6f"
      },
      "execution_count": null,
      "outputs": [
        {
          "output_type": "stream",
          "name": "stdout",
          "text": [
            "tf.Tensor([[4. 2.]], shape=(1, 2), dtype=float32)\n"
          ]
        }
      ]
    },
    {
      "cell_type": "code",
      "source": [
        "x = tf.ones((3,3))\n",
        "x"
      ],
      "metadata": {
        "colab": {
          "base_uri": "https://localhost:8080/"
        },
        "id": "YGqFB2-bRd5i",
        "outputId": "c9a8c016-3a02-42d6-92c8-c702e588ff1b"
      },
      "execution_count": null,
      "outputs": [
        {
          "output_type": "execute_result",
          "data": {
            "text/plain": [
              "<tf.Tensor: shape=(3, 3), dtype=float32, numpy=\n",
              "array([[1., 1., 1.],\n",
              "       [1., 1., 1.],\n",
              "       [1., 1., 1.]], dtype=float32)>"
            ]
          },
          "metadata": {},
          "execution_count": 9
        }
      ]
    },
    {
      "cell_type": "code",
      "source": [
        "x = tf.range(start=1,limit=20,delta=2)\n",
        "x"
      ],
      "metadata": {
        "colab": {
          "base_uri": "https://localhost:8080/"
        },
        "id": "JVvNm5THRf2g",
        "outputId": "a8d33bba-9690-444e-aa60-0df3e37bb32b"
      },
      "execution_count": null,
      "outputs": [
        {
          "output_type": "execute_result",
          "data": {
            "text/plain": [
              "<tf.Tensor: shape=(10,), dtype=int32, numpy=array([ 1,  3,  5,  7,  9, 11, 13, 15, 17, 19], dtype=int32)>"
            ]
          },
          "metadata": {},
          "execution_count": 10
        }
      ]
    },
    {
      "cell_type": "code",
      "source": [
        "y = tf.range(start = 20,limit=40,delta=2)\n",
        "y"
      ],
      "metadata": {
        "colab": {
          "base_uri": "https://localhost:8080/"
        },
        "id": "6rXBLVAjXm27",
        "outputId": "2791cac6-12c9-456e-b684-04334a46c2ed"
      },
      "execution_count": null,
      "outputs": [
        {
          "output_type": "execute_result",
          "data": {
            "text/plain": [
              "<tf.Tensor: shape=(10,), dtype=int32, numpy=array([20, 22, 24, 26, 28, 30, 32, 34, 36, 38], dtype=int32)>"
            ]
          },
          "metadata": {},
          "execution_count": 13
        }
      ]
    },
    {
      "cell_type": "code",
      "source": [
        "z = tf.add(x,y)\n",
        "z"
      ],
      "metadata": {
        "colab": {
          "base_uri": "https://localhost:8080/"
        },
        "id": "q1U1Xi38XzyA",
        "outputId": "993cb704-0666-4b01-998e-31d240be0dba"
      },
      "execution_count": null,
      "outputs": [
        {
          "output_type": "execute_result",
          "data": {
            "text/plain": [
              "<tf.Tensor: shape=(10,), dtype=int32, numpy=array([21, 25, 29, 33, 37, 41, 45, 49, 53, 57], dtype=int32)>"
            ]
          },
          "metadata": {},
          "execution_count": 15
        }
      ]
    },
    {
      "cell_type": "code",
      "source": [
        "z = tf.subtract(x,y)\n",
        "z"
      ],
      "metadata": {
        "colab": {
          "base_uri": "https://localhost:8080/"
        },
        "id": "9b8ad1kCX5YL",
        "outputId": "b0b1d058-10f0-4706-cfe6-42bb19873078"
      },
      "execution_count": null,
      "outputs": [
        {
          "output_type": "execute_result",
          "data": {
            "text/plain": [
              "<tf.Tensor: shape=(10,), dtype=int32, numpy=array([-19, -19, -19, -19, -19, -19, -19, -19, -19, -19], dtype=int32)>"
            ]
          },
          "metadata": {},
          "execution_count": 17
        }
      ]
    },
    {
      "cell_type": "code",
      "source": [
        "z = tf.divide(x,y)\n",
        "z"
      ],
      "metadata": {
        "colab": {
          "base_uri": "https://localhost:8080/"
        },
        "id": "-lvAbjOWYH_h",
        "outputId": "9532fbfa-fd25-42bc-f609-75c8505d0609"
      },
      "execution_count": null,
      "outputs": [
        {
          "output_type": "execute_result",
          "data": {
            "text/plain": [
              "<tf.Tensor: shape=(10,), dtype=float64, numpy=\n",
              "array([0.05      , 0.13636364, 0.20833333, 0.26923077, 0.32142857,\n",
              "       0.36666667, 0.40625   , 0.44117647, 0.47222222, 0.5       ])>"
            ]
          },
          "metadata": {},
          "execution_count": 18
        }
      ]
    },
    {
      "cell_type": "code",
      "source": [
        "z = tf.multiply(x,y)\n",
        "z"
      ],
      "metadata": {
        "colab": {
          "base_uri": "https://localhost:8080/"
        },
        "id": "3dsSfyANZ5F1",
        "outputId": "5053b516-fd1e-4d4b-e267-5a6d7ba18780"
      },
      "execution_count": null,
      "outputs": [
        {
          "output_type": "execute_result",
          "data": {
            "text/plain": [
              "<tf.Tensor: shape=(10,), dtype=int32, numpy=array([ 20,  66, 120, 182, 252, 330, 416, 510, 612, 722], dtype=int32)>"
            ]
          },
          "metadata": {},
          "execution_count": 19
        }
      ]
    },
    {
      "cell_type": "code",
      "source": [
        "x = tf.random.normal((2,4))\n",
        "y = tf.random.normal((4,3))\n",
        "\n",
        "z = tf.matmul(x,y)\n",
        "print(z)"
      ],
      "metadata": {
        "colab": {
          "base_uri": "https://localhost:8080/"
        },
        "id": "ahO2-ahPZ8oT",
        "outputId": "7dabbb04-8071-4167-805f-3e6cca8f9369"
      },
      "execution_count": null,
      "outputs": [
        {
          "output_type": "stream",
          "name": "stdout",
          "text": [
            "tf.Tensor(\n",
            "[[ 1.5530462  0.4015124  0.3391365]\n",
            " [-2.6016033 -1.0017958 -3.4732432]], shape=(2, 3), dtype=float32)\n"
          ]
        }
      ]
    },
    {
      "cell_type": "code",
      "source": [],
      "metadata": {
        "id": "5S-aJBL7bLR7"
      },
      "execution_count": null,
      "outputs": []
    },
    {
      "cell_type": "markdown",
      "source": [
        "# Neural Networks with Sequential and Functional API"
      ],
      "metadata": {
        "id": "1LbPya2Nd0xy"
      }
    },
    {
      "cell_type": "code",
      "source": [
        "import tensorflow as tf\n",
        "from tensorflow import keras\n",
        "from tensorflow.keras import layers\n",
        "from tensorflow.keras.datasets import mnist"
      ],
      "metadata": {
        "id": "B5ie_gZWzS3V"
      },
      "execution_count": null,
      "outputs": []
    },
    {
      "cell_type": "code",
      "source": [
        "(x_train, y_train), (x_test,y_test) = mnist.load_data()\n",
        "x_train.shape"
      ],
      "metadata": {
        "colab": {
          "base_uri": "https://localhost:8080/"
        },
        "id": "hfOjj3o9zSrd",
        "outputId": "6a75c84e-2f20-4154-f1db-61cf660e50ec"
      },
      "execution_count": null,
      "outputs": [
        {
          "output_type": "execute_result",
          "data": {
            "text/plain": [
              "(60000, 28, 28)"
            ]
          },
          "metadata": {},
          "execution_count": 22
        }
      ]
    },
    {
      "cell_type": "code",
      "source": [
        "x_train = x_train.reshape(-1,28*28).astype(\"float32\")/255.0\n",
        "x_test = x_test.reshape(-1,28*28).astype(\"float32\")/255.0\n",
        "x_train.shape"
      ],
      "metadata": {
        "colab": {
          "base_uri": "https://localhost:8080/"
        },
        "id": "h7w73Xz-02GY",
        "outputId": "36924d2b-bf24-4f85-f2f0-d1958b015032"
      },
      "execution_count": null,
      "outputs": [
        {
          "output_type": "execute_result",
          "data": {
            "text/plain": [
              "(60000, 784)"
            ]
          },
          "metadata": {},
          "execution_count": 23
        }
      ]
    },
    {
      "cell_type": "markdown",
      "source": [
        "## Secuential API"
      ],
      "metadata": {
        "id": "fF3XPABYKmWj"
      }
    },
    {
      "cell_type": "code",
      "source": [
        "# Secuential API\n",
        "modelSecAPI = keras.Sequential(\n",
        "    [\n",
        "        keras.Input(shape=(28*28,)),\n",
        "        layers.Dense(512,activation=\"relu\"),\n",
        "        layers.Dense(256,activation=\"relu\"),\n",
        "        layers.Dense(10),\n",
        "    ]\n",
        ")\n",
        "\n",
        "modelSecAPI.compile(\n",
        "    loss = keras.losses.SparseCategoricalCrossentropy(from_logits=True),\n",
        "    optimizer = keras.optimizers.Adam(learning_rate = 0.001),\n",
        "    metrics = [\"accuracy\"]\n",
        ")"
      ],
      "metadata": {
        "id": "lIh8jrpb3hI5",
        "colab": {
          "base_uri": "https://localhost:8080/",
          "height": 211
        },
        "outputId": "cc965b7d-f293-4d4b-e3da-c08021e51155"
      },
      "execution_count": null,
      "outputs": [
        {
          "output_type": "error",
          "ename": "NameError",
          "evalue": "name 'keras' is not defined",
          "traceback": [
            "\u001b[0;31m---------------------------------------------------------------------------\u001b[0m",
            "\u001b[0;31mNameError\u001b[0m                                 Traceback (most recent call last)",
            "\u001b[0;32m<ipython-input-1-9997ce0972d3>\u001b[0m in \u001b[0;36m<cell line: 0>\u001b[0;34m()\u001b[0m\n\u001b[1;32m      1\u001b[0m \u001b[0;31m# Secuential API\u001b[0m\u001b[0;34m\u001b[0m\u001b[0;34m\u001b[0m\u001b[0m\n\u001b[0;32m----> 2\u001b[0;31m modelSecAPI = keras.Sequential(\n\u001b[0m\u001b[1;32m      3\u001b[0m     [\n\u001b[1;32m      4\u001b[0m         \u001b[0mkeras\u001b[0m\u001b[0;34m.\u001b[0m\u001b[0mInput\u001b[0m\u001b[0;34m(\u001b[0m\u001b[0mshape\u001b[0m\u001b[0;34m=\u001b[0m\u001b[0;34m(\u001b[0m\u001b[0;36m28\u001b[0m\u001b[0;34m*\u001b[0m\u001b[0;36m28\u001b[0m\u001b[0;34m,\u001b[0m\u001b[0;34m)\u001b[0m\u001b[0;34m)\u001b[0m\u001b[0;34m,\u001b[0m\u001b[0;34m\u001b[0m\u001b[0;34m\u001b[0m\u001b[0m\n\u001b[1;32m      5\u001b[0m         \u001b[0mlayers\u001b[0m\u001b[0;34m.\u001b[0m\u001b[0mDense\u001b[0m\u001b[0;34m(\u001b[0m\u001b[0;36m512\u001b[0m\u001b[0;34m,\u001b[0m\u001b[0mactivation\u001b[0m\u001b[0;34m=\u001b[0m\u001b[0;34m\"relu\"\u001b[0m\u001b[0;34m)\u001b[0m\u001b[0;34m,\u001b[0m\u001b[0;34m\u001b[0m\u001b[0;34m\u001b[0m\u001b[0m\n",
            "\u001b[0;31mNameError\u001b[0m: name 'keras' is not defined"
          ]
        }
      ]
    },
    {
      "cell_type": "code",
      "source": [
        "print(modelSecAPI.summary())"
      ],
      "metadata": {
        "colab": {
          "base_uri": "https://localhost:8080/",
          "height": 242
        },
        "id": "NhdsL2J25bVb",
        "outputId": "275bfa3c-5b8e-4b20-8cda-d04a7acaf0c2"
      },
      "execution_count": null,
      "outputs": [
        {
          "output_type": "display_data",
          "data": {
            "text/plain": [
              "\u001b[1mModel: \"sequential_4\"\u001b[0m\n"
            ],
            "text/html": [
              "<pre style=\"white-space:pre;overflow-x:auto;line-height:normal;font-family:Menlo,'DejaVu Sans Mono',consolas,'Courier New',monospace\"><span style=\"font-weight: bold\">Model: \"sequential_4\"</span>\n",
              "</pre>\n"
            ]
          },
          "metadata": {}
        },
        {
          "output_type": "display_data",
          "data": {
            "text/plain": [
              "┏━━━━━━━━━━━━━━━━━━━━━━━━━━━━━━━━━┳━━━━━━━━━━━━━━━━━━━━━━━━┳━━━━━━━━━━━━━━━┓\n",
              "┃\u001b[1m \u001b[0m\u001b[1mLayer (type)                   \u001b[0m\u001b[1m \u001b[0m┃\u001b[1m \u001b[0m\u001b[1mOutput Shape          \u001b[0m\u001b[1m \u001b[0m┃\u001b[1m \u001b[0m\u001b[1m      Param #\u001b[0m\u001b[1m \u001b[0m┃\n",
              "┡━━━━━━━━━━━━━━━━━━━━━━━━━━━━━━━━━╇━━━━━━━━━━━━━━━━━━━━━━━━╇━━━━━━━━━━━━━━━┩\n",
              "│ dense_12 (\u001b[38;5;33mDense\u001b[0m)                │ (\u001b[38;5;45mNone\u001b[0m, \u001b[38;5;34m512\u001b[0m)            │       \u001b[38;5;34m401,920\u001b[0m │\n",
              "├─────────────────────────────────┼────────────────────────┼───────────────┤\n",
              "│ dense_13 (\u001b[38;5;33mDense\u001b[0m)                │ (\u001b[38;5;45mNone\u001b[0m, \u001b[38;5;34m256\u001b[0m)            │       \u001b[38;5;34m131,328\u001b[0m │\n",
              "├─────────────────────────────────┼────────────────────────┼───────────────┤\n",
              "│ dense_14 (\u001b[38;5;33mDense\u001b[0m)                │ (\u001b[38;5;45mNone\u001b[0m, \u001b[38;5;34m10\u001b[0m)             │         \u001b[38;5;34m2,570\u001b[0m │\n",
              "└─────────────────────────────────┴────────────────────────┴───────────────┘\n"
            ],
            "text/html": [
              "<pre style=\"white-space:pre;overflow-x:auto;line-height:normal;font-family:Menlo,'DejaVu Sans Mono',consolas,'Courier New',monospace\">┏━━━━━━━━━━━━━━━━━━━━━━━━━━━━━━━━━┳━━━━━━━━━━━━━━━━━━━━━━━━┳━━━━━━━━━━━━━━━┓\n",
              "┃<span style=\"font-weight: bold\"> Layer (type)                    </span>┃<span style=\"font-weight: bold\"> Output Shape           </span>┃<span style=\"font-weight: bold\">       Param # </span>┃\n",
              "┡━━━━━━━━━━━━━━━━━━━━━━━━━━━━━━━━━╇━━━━━━━━━━━━━━━━━━━━━━━━╇━━━━━━━━━━━━━━━┩\n",
              "│ dense_12 (<span style=\"color: #0087ff; text-decoration-color: #0087ff\">Dense</span>)                │ (<span style=\"color: #00d7ff; text-decoration-color: #00d7ff\">None</span>, <span style=\"color: #00af00; text-decoration-color: #00af00\">512</span>)            │       <span style=\"color: #00af00; text-decoration-color: #00af00\">401,920</span> │\n",
              "├─────────────────────────────────┼────────────────────────┼───────────────┤\n",
              "│ dense_13 (<span style=\"color: #0087ff; text-decoration-color: #0087ff\">Dense</span>)                │ (<span style=\"color: #00d7ff; text-decoration-color: #00d7ff\">None</span>, <span style=\"color: #00af00; text-decoration-color: #00af00\">256</span>)            │       <span style=\"color: #00af00; text-decoration-color: #00af00\">131,328</span> │\n",
              "├─────────────────────────────────┼────────────────────────┼───────────────┤\n",
              "│ dense_14 (<span style=\"color: #0087ff; text-decoration-color: #0087ff\">Dense</span>)                │ (<span style=\"color: #00d7ff; text-decoration-color: #00d7ff\">None</span>, <span style=\"color: #00af00; text-decoration-color: #00af00\">10</span>)             │         <span style=\"color: #00af00; text-decoration-color: #00af00\">2,570</span> │\n",
              "└─────────────────────────────────┴────────────────────────┴───────────────┘\n",
              "</pre>\n"
            ]
          },
          "metadata": {}
        },
        {
          "output_type": "display_data",
          "data": {
            "text/plain": [
              "\u001b[1m Total params: \u001b[0m\u001b[38;5;34m535,818\u001b[0m (2.04 MB)\n"
            ],
            "text/html": [
              "<pre style=\"white-space:pre;overflow-x:auto;line-height:normal;font-family:Menlo,'DejaVu Sans Mono',consolas,'Courier New',monospace\"><span style=\"font-weight: bold\"> Total params: </span><span style=\"color: #00af00; text-decoration-color: #00af00\">535,818</span> (2.04 MB)\n",
              "</pre>\n"
            ]
          },
          "metadata": {}
        },
        {
          "output_type": "display_data",
          "data": {
            "text/plain": [
              "\u001b[1m Trainable params: \u001b[0m\u001b[38;5;34m535,818\u001b[0m (2.04 MB)\n"
            ],
            "text/html": [
              "<pre style=\"white-space:pre;overflow-x:auto;line-height:normal;font-family:Menlo,'DejaVu Sans Mono',consolas,'Courier New',monospace\"><span style=\"font-weight: bold\"> Trainable params: </span><span style=\"color: #00af00; text-decoration-color: #00af00\">535,818</span> (2.04 MB)\n",
              "</pre>\n"
            ]
          },
          "metadata": {}
        },
        {
          "output_type": "display_data",
          "data": {
            "text/plain": [
              "\u001b[1m Non-trainable params: \u001b[0m\u001b[38;5;34m0\u001b[0m (0.00 B)\n"
            ],
            "text/html": [
              "<pre style=\"white-space:pre;overflow-x:auto;line-height:normal;font-family:Menlo,'DejaVu Sans Mono',consolas,'Courier New',monospace\"><span style=\"font-weight: bold\"> Non-trainable params: </span><span style=\"color: #00af00; text-decoration-color: #00af00\">0</span> (0.00 B)\n",
              "</pre>\n"
            ]
          },
          "metadata": {}
        },
        {
          "output_type": "stream",
          "name": "stdout",
          "text": [
            "None\n"
          ]
        }
      ]
    },
    {
      "cell_type": "code",
      "source": [
        "keras.utils.plot_model(modelSecAPI,show_shapes=True)"
      ],
      "metadata": {
        "colab": {
          "base_uri": "https://localhost:8080/",
          "height": 818
        },
        "id": "zw7dvgNW6PEu",
        "outputId": "81736c26-83f3-4c99-ee67-8dbdf9b3d61b"
      },
      "execution_count": null,
      "outputs": [
        {
          "output_type": "execute_result",
          "data": {
            "image/png": "[encoded data removed]",
            "text/plain": [
              "<IPython.core.display.Image object>"
            ]
          },
          "metadata": {},
          "execution_count": 26
        }
      ]
    },
    {
      "cell_type": "code",
      "source": [
        "modelSecAPI.fit(x_train,y_train,batch_size=32,epochs=5,verbose=2)"
      ],
      "metadata": {
        "colab": {
          "base_uri": "https://localhost:8080/"
        },
        "id": "MuoNR63x9FZ4",
        "outputId": "8ee9e4e3-ea55-4cd0-bf22-d05be751b86c"
      },
      "execution_count": null,
      "outputs": [
        {
          "output_type": "stream",
          "name": "stdout",
          "text": [
            "Epoch 1/5\n",
            "1875/1875 - 17s - 9ms/step - accuracy: 0.9444 - loss: 0.1836\n",
            "Epoch 2/5\n",
            "1875/1875 - 18s - 10ms/step - accuracy: 0.9746 - loss: 0.0813\n",
            "Epoch 3/5\n",
            "1875/1875 - 20s - 11ms/step - accuracy: 0.9836 - loss: 0.0524\n",
            "Epoch 4/5\n",
            "1875/1875 - 19s - 10ms/step - accuracy: 0.9874 - loss: 0.0391\n",
            "Epoch 5/5\n",
            "1875/1875 - 16s - 8ms/step - accuracy: 0.9889 - loss: 0.0339\n"
          ]
        },
        {
          "output_type": "execute_result",
          "data": {
            "text/plain": [
              "<keras.src.callbacks.history.History at 0x79c53afd5cd0>"
            ]
          },
          "metadata": {},
          "execution_count": 27
        }
      ]
    },
    {
      "cell_type": "code",
      "source": [
        "modelSecAPI.evaluate(x_test,y_test,batch_size=32,verbose=2)"
      ],
      "metadata": {
        "colab": {
          "base_uri": "https://localhost:8080/"
        },
        "id": "HbADuPCWHlzY",
        "outputId": "b3b280eb-d384-4665-a408-6903abd23ea4"
      },
      "execution_count": null,
      "outputs": [
        {
          "output_type": "stream",
          "name": "stdout",
          "text": [
            "313/313 - 1s - 4ms/step - accuracy: 0.9816 - loss: 0.0638\n"
          ]
        },
        {
          "output_type": "execute_result",
          "data": {
            "text/plain": [
              "[0.063814178109169, 0.9815999865531921]"
            ]
          },
          "metadata": {},
          "execution_count": 28
        }
      ]
    },
    {
      "cell_type": "markdown",
      "source": [
        "## Fuctional API"
      ],
      "metadata": {
        "id": "eUmWEYXrKOVP"
      }
    },
    {
      "cell_type": "code",
      "source": [
        "#Functional API\n",
        "inputs = keras.Input(shape=(28*28,))\n",
        "x = layers.Dense(512, activation='relu')(inputs)\n",
        "x = layers.Dense(256,activation='relu')(x)\n",
        "outputs = layers.Dense(10,activation='softmax')(x)\n",
        "modelFuncAPI = keras.Model(inputs=inputs,outputs=outputs)"
      ],
      "metadata": {
        "id": "nYHA8BYeHnj4"
      },
      "execution_count": null,
      "outputs": []
    },
    {
      "cell_type": "code",
      "source": [
        "modelFuncAPI.compile(\n",
        "    loss = keras.losses.SparseCategoricalCrossentropy(),\n",
        "    optimizer = keras.optimizers.Adam(learning_rate = 0.001),\n",
        "    metrics = [\"accuracy\"]\n",
        ")"
      ],
      "metadata": {
        "id": "adR1LFK_J34w"
      },
      "execution_count": null,
      "outputs": []
    },
    {
      "cell_type": "code",
      "source": [
        "print(modelFuncAPI.summary())"
      ],
      "metadata": {
        "colab": {
          "base_uri": "https://localhost:8080/",
          "height": 290
        },
        "id": "mvmoW7PNKXkW",
        "outputId": "461c7ec5-3c3e-4a09-b9e8-eb4a409caaba"
      },
      "execution_count": null,
      "outputs": [
        {
          "output_type": "display_data",
          "data": {
            "text/plain": [
              "\u001b[1mModel: \"functional_2\"\u001b[0m\n"
            ],
            "text/html": [
              "<pre style=\"white-space:pre;overflow-x:auto;line-height:normal;font-family:Menlo,'DejaVu Sans Mono',consolas,'Courier New',monospace\"><span style=\"font-weight: bold\">Model: \"functional_2\"</span>\n",
              "</pre>\n"
            ]
          },
          "metadata": {}
        },
        {
          "output_type": "display_data",
          "data": {
            "text/plain": [
              "┏━━━━━━━━━━━━━━━━━━━━━━━━━━━━━━━━━┳━━━━━━━━━━━━━━━━━━━━━━━━┳━━━━━━━━━━━━━━━┓\n",
              "┃\u001b[1m \u001b[0m\u001b[1mLayer (type)                   \u001b[0m\u001b[1m \u001b[0m┃\u001b[1m \u001b[0m\u001b[1mOutput Shape          \u001b[0m\u001b[1m \u001b[0m┃\u001b[1m \u001b[0m\u001b[1m      Param #\u001b[0m\u001b[1m \u001b[0m┃\n",
              "┡━━━━━━━━━━━━━━━━━━━━━━━━━━━━━━━━━╇━━━━━━━━━━━━━━━━━━━━━━━━╇━━━━━━━━━━━━━━━┩\n",
              "│ input_layer_4 (\u001b[38;5;33mInputLayer\u001b[0m)      │ (\u001b[38;5;45mNone\u001b[0m, \u001b[38;5;34m784\u001b[0m)            │             \u001b[38;5;34m0\u001b[0m │\n",
              "├─────────────────────────────────┼────────────────────────┼───────────────┤\n",
              "│ dense_15 (\u001b[38;5;33mDense\u001b[0m)                │ (\u001b[38;5;45mNone\u001b[0m, \u001b[38;5;34m512\u001b[0m)            │       \u001b[38;5;34m401,920\u001b[0m │\n",
              "├─────────────────────────────────┼────────────────────────┼───────────────┤\n",
              "│ dense_16 (\u001b[38;5;33mDense\u001b[0m)                │ (\u001b[38;5;45mNone\u001b[0m, \u001b[38;5;34m256\u001b[0m)            │       \u001b[38;5;34m131,328\u001b[0m │\n",
              "├─────────────────────────────────┼────────────────────────┼───────────────┤\n",
              "│ dense_17 (\u001b[38;5;33mDense\u001b[0m)                │ (\u001b[38;5;45mNone\u001b[0m, \u001b[38;5;34m10\u001b[0m)             │         \u001b[38;5;34m2,570\u001b[0m │\n",
              "└─────────────────────────────────┴────────────────────────┴───────────────┘\n"
            ],
            "text/html": [
              "<pre style=\"white-space:pre;overflow-x:auto;line-height:normal;font-family:Menlo,'DejaVu Sans Mono',consolas,'Courier New',monospace\">┏━━━━━━━━━━━━━━━━━━━━━━━━━━━━━━━━━┳━━━━━━━━━━━━━━━━━━━━━━━━┳━━━━━━━━━━━━━━━┓\n",
              "┃<span style=\"font-weight: bold\"> Layer (type)                    </span>┃<span style=\"font-weight: bold\"> Output Shape           </span>┃<span style=\"font-weight: bold\">       Param # </span>┃\n",
              "┡━━━━━━━━━━━━━━━━━━━━━━━━━━━━━━━━━╇━━━━━━━━━━━━━━━━━━━━━━━━╇━━━━━━━━━━━━━━━┩\n",
              "│ input_layer_4 (<span style=\"color: #0087ff; text-decoration-color: #0087ff\">InputLayer</span>)      │ (<span style=\"color: #00d7ff; text-decoration-color: #00d7ff\">None</span>, <span style=\"color: #00af00; text-decoration-color: #00af00\">784</span>)            │             <span style=\"color: #00af00; text-decoration-color: #00af00\">0</span> │\n",
              "├─────────────────────────────────┼────────────────────────┼───────────────┤\n",
              "│ dense_15 (<span style=\"color: #0087ff; text-decoration-color: #0087ff\">Dense</span>)                │ (<span style=\"color: #00d7ff; text-decoration-color: #00d7ff\">None</span>, <span style=\"color: #00af00; text-decoration-color: #00af00\">512</span>)            │       <span style=\"color: #00af00; text-decoration-color: #00af00\">401,920</span> │\n",
              "├─────────────────────────────────┼────────────────────────┼───────────────┤\n",
              "│ dense_16 (<span style=\"color: #0087ff; text-decoration-color: #0087ff\">Dense</span>)                │ (<span style=\"color: #00d7ff; text-decoration-color: #00d7ff\">None</span>, <span style=\"color: #00af00; text-decoration-color: #00af00\">256</span>)            │       <span style=\"color: #00af00; text-decoration-color: #00af00\">131,328</span> │\n",
              "├─────────────────────────────────┼────────────────────────┼───────────────┤\n",
              "│ dense_17 (<span style=\"color: #0087ff; text-decoration-color: #0087ff\">Dense</span>)                │ (<span style=\"color: #00d7ff; text-decoration-color: #00d7ff\">None</span>, <span style=\"color: #00af00; text-decoration-color: #00af00\">10</span>)             │         <span style=\"color: #00af00; text-decoration-color: #00af00\">2,570</span> │\n",
              "└─────────────────────────────────┴────────────────────────┴───────────────┘\n",
              "</pre>\n"
            ]
          },
          "metadata": {}
        },
        {
          "output_type": "display_data",
          "data": {
            "text/plain": [
              "\u001b[1m Total params: \u001b[0m\u001b[38;5;34m1,607,456\u001b[0m (6.13 MB)\n"
            ],
            "text/html": [
              "<pre style=\"white-space:pre;overflow-x:auto;line-height:normal;font-family:Menlo,'DejaVu Sans Mono',consolas,'Courier New',monospace\"><span style=\"font-weight: bold\"> Total params: </span><span style=\"color: #00af00; text-decoration-color: #00af00\">1,607,456</span> (6.13 MB)\n",
              "</pre>\n"
            ]
          },
          "metadata": {}
        },
        {
          "output_type": "display_data",
          "data": {
            "text/plain": [
              "\u001b[1m Trainable params: \u001b[0m\u001b[38;5;34m535,818\u001b[0m (2.04 MB)\n"
            ],
            "text/html": [
              "<pre style=\"white-space:pre;overflow-x:auto;line-height:normal;font-family:Menlo,'DejaVu Sans Mono',consolas,'Courier New',monospace\"><span style=\"font-weight: bold\"> Trainable params: </span><span style=\"color: #00af00; text-decoration-color: #00af00\">535,818</span> (2.04 MB)\n",
              "</pre>\n"
            ]
          },
          "metadata": {}
        },
        {
          "output_type": "display_data",
          "data": {
            "text/plain": [
              "\u001b[1m Non-trainable params: \u001b[0m\u001b[38;5;34m0\u001b[0m (0.00 B)\n"
            ],
            "text/html": [
              "<pre style=\"white-space:pre;overflow-x:auto;line-height:normal;font-family:Menlo,'DejaVu Sans Mono',consolas,'Courier New',monospace\"><span style=\"font-weight: bold\"> Non-trainable params: </span><span style=\"color: #00af00; text-decoration-color: #00af00\">0</span> (0.00 B)\n",
              "</pre>\n"
            ]
          },
          "metadata": {}
        },
        {
          "output_type": "display_data",
          "data": {
            "text/plain": [
              "\u001b[1m Optimizer params: \u001b[0m\u001b[38;5;34m1,071,638\u001b[0m (4.09 MB)\n"
            ],
            "text/html": [
              "<pre style=\"white-space:pre;overflow-x:auto;line-height:normal;font-family:Menlo,'DejaVu Sans Mono',consolas,'Courier New',monospace\"><span style=\"font-weight: bold\"> Optimizer params: </span><span style=\"color: #00af00; text-decoration-color: #00af00\">1,071,638</span> (4.09 MB)\n",
              "</pre>\n"
            ]
          },
          "metadata": {}
        },
        {
          "output_type": "stream",
          "name": "stdout",
          "text": [
            "None\n"
          ]
        }
      ]
    },
    {
      "cell_type": "code",
      "source": [
        "keras.utils.plot_model(modelFuncAPI,show_shapes=True)"
      ],
      "metadata": {
        "colab": {
          "base_uri": "https://localhost:8080/",
          "height": 1000
        },
        "id": "kFHBXuFcKZrM",
        "outputId": "f2167bbe-d167-4e83-eb60-9a5ca0965723"
      },
      "execution_count": null,
      "outputs": [
        {
          "output_type": "execute_result",
          "data": {
            "image/png": "[encoded data removed]",
            "text/plain": [
              "<IPython.core.display.Image object>"
            ]
          },
          "metadata": {},
          "execution_count": 35
        }
      ]
    },
    {
      "cell_type": "code",
      "source": [
        "modelFuncAPI.fit(x_train,y_train,batch_size=32,epochs=5,verbose=2)"
      ],
      "metadata": {
        "colab": {
          "base_uri": "https://localhost:8080/"
        },
        "id": "smtf9wvCJ-vI",
        "outputId": "d9ee5312-fc54-44a3-cd55-69b5a6df9ee5"
      },
      "execution_count": null,
      "outputs": [
        {
          "output_type": "stream",
          "name": "stdout",
          "text": [
            "Epoch 1/5\n",
            "1875/1875 - 23s - 12ms/step - accuracy: 0.9451 - loss: 0.1830\n",
            "Epoch 2/5\n",
            "1875/1875 - 17s - 9ms/step - accuracy: 0.9752 - loss: 0.0781\n",
            "Epoch 3/5\n",
            "1875/1875 - 17s - 9ms/step - accuracy: 0.9827 - loss: 0.0547\n",
            "Epoch 4/5\n",
            "1875/1875 - 21s - 11ms/step - accuracy: 0.9870 - loss: 0.0390\n",
            "Epoch 5/5\n",
            "1875/1875 - 20s - 11ms/step - accuracy: 0.9897 - loss: 0.0317\n"
          ]
        },
        {
          "output_type": "execute_result",
          "data": {
            "text/plain": [
              "<keras.src.callbacks.history.History at 0x79c53a3dec10>"
            ]
          },
          "metadata": {},
          "execution_count": 33
        }
      ]
    },
    {
      "cell_type": "code",
      "source": [
        "modelFuncAPI.evaluate(x_test,y_test,batch_size=32,verbose=2)"
      ],
      "metadata": {
        "colab": {
          "base_uri": "https://localhost:8080/"
        },
        "id": "-jso_wErKFyD",
        "outputId": "1b7e7064-6bc9-4cb3-b624-ebcc1d178033"
      },
      "execution_count": null,
      "outputs": [
        {
          "output_type": "stream",
          "name": "stdout",
          "text": [
            "313/313 - 2s - 6ms/step - accuracy: 0.9780 - loss: 0.0820\n"
          ]
        },
        {
          "output_type": "execute_result",
          "data": {
            "text/plain": [
              "[0.08203131705522537, 0.9779999852180481]"
            ]
          },
          "metadata": {},
          "execution_count": 36
        }
      ]
    },
    {
      "cell_type": "code",
      "source": [],
      "metadata": {
        "id": "ZqVKJZjjKhnm"
      },
      "execution_count": null,
      "outputs": []
    },
    {
      "cell_type": "markdown",
      "source": [
        "## Model Subclassing"
      ],
      "metadata": {
        "id": "hwuY9-s7KpXd"
      }
    },
    {
      "cell_type": "code",
      "source": [],
      "metadata": {
        "id": "YjLTAuvIKt1w"
      },
      "execution_count": null,
      "outputs": []
    },
    {
      "cell_type": "markdown",
      "source": [
        "# Convolutional Neural Networks with Sequential and Functional API"
      ],
      "metadata": {
        "id": "53BBrZsHrStk"
      }
    },
    {
      "cell_type": "code",
      "source": [
        "from tensorflow.keras.datasets import cifar10"
      ],
      "metadata": {
        "id": "7aXSJjjfrbG5"
      },
      "execution_count": 2,
      "outputs": []
    },
    {
      "cell_type": "code",
      "source": [
        "(x_train,y_train),(x_test,y_test) = cifar10.load_data()\n",
        "x_train = x_train.astype(\"float32\")/255.0\n",
        "x_test = x_test.astype(\"float32\")/255.0"
      ],
      "metadata": {
        "colab": {
          "base_uri": "https://localhost:8080/"
        },
        "id": "td8vnkb-KQg1",
        "outputId": "13aa1e15-b155-42b1-bff6-5d190b861072"
      },
      "execution_count": 3,
      "outputs": [
        {
          "output_type": "stream",
          "name": "stdout",
          "text": [
            "Downloading data from https://www.cs.toronto.edu/~kriz/cifar-10-python.tar.gz\n",
            "\u001b[1m170498071/170498071\u001b[0m \u001b[32m━━━━━━━━━━━━━━━━━━━━\u001b[0m\u001b[37m\u001b[0m \u001b[1m13s\u001b[0m 0us/step\n"
          ]
        }
      ]
    },
    {
      "cell_type": "code",
      "source": [
        "modelSecAPI = keras.Sequential(\n",
        "    [\n",
        "        keras.Input(shape=(32, 32, 3)),\n",
        "        layers.Conv2D(32, 3, padding=\"valid\", activation=\"relu\"),\n",
        "        layers.MaxPooling2D(),\n",
        "        layers.Conv2D(64, 3, activation=\"relu\"),\n",
        "        layers.MaxPooling2D(),\n",
        "        layers.Conv2D(128, 3, activation=\"relu\"),\n",
        "        layers.Flatten(),\n",
        "        layers.Dense(64, activation=\"relu\"),\n",
        "        layers.Dense(10),\n",
        "    ]\n",
        ")"
      ],
      "metadata": {
        "id": "BZ8QxK2WP1H_"
      },
      "execution_count": 4,
      "outputs": []
    },
    {
      "cell_type": "code",
      "source": [
        "modelSecAPI.compile(\n",
        "    loss=keras.losses.SparseCategoricalCrossentropy(from_logits=True),\n",
        "    optimizer=keras.optimizers.Adam(learning_rate=3e-4),\n",
        "    metrics=[\"accuracy\"],\n",
        ")"
      ],
      "metadata": {
        "id": "WaLxLvC1P78H"
      },
      "execution_count": 5,
      "outputs": []
    },
    {
      "cell_type": "code",
      "source": [
        "print(modelSecAPI.summary())"
      ],
      "metadata": {
        "colab": {
          "base_uri": "https://localhost:8080/",
          "height": 402
        },
        "id": "wRJMc5U8QBpa",
        "outputId": "e1e370c6-9fdd-4dce-82fb-16a68823f3d0"
      },
      "execution_count": 6,
      "outputs": [
        {
          "output_type": "display_data",
          "data": {
            "text/plain": [
              "\u001b[1mModel: \"sequential\"\u001b[0m\n"
            ],
            "text/html": [
              "<pre style=\"white-space:pre;overflow-x:auto;line-height:normal;font-family:Menlo,'DejaVu Sans Mono',consolas,'Courier New',monospace\"><span style=\"font-weight: bold\">Model: \"sequential\"</span>\n",
              "</pre>\n"
            ]
          },
          "metadata": {}
        },
        {
          "output_type": "display_data",
          "data": {
            "text/plain": [
              "┏━━━━━━━━━━━━━━━━━━━━━━━━━━━━━━━━━┳━━━━━━━━━━━━━━━━━━━━━━━━┳━━━━━━━━━━━━━━━┓\n",
              "┃\u001b[1m \u001b[0m\u001b[1mLayer (type)                   \u001b[0m\u001b[1m \u001b[0m┃\u001b[1m \u001b[0m\u001b[1mOutput Shape          \u001b[0m\u001b[1m \u001b[0m┃\u001b[1m \u001b[0m\u001b[1m      Param #\u001b[0m\u001b[1m \u001b[0m┃\n",
              "┡━━━━━━━━━━━━━━━━━━━━━━━━━━━━━━━━━╇━━━━━━━━━━━━━━━━━━━━━━━━╇━━━━━━━━━━━━━━━┩\n",
              "│ conv2d (\u001b[38;5;33mConv2D\u001b[0m)                 │ (\u001b[38;5;45mNone\u001b[0m, \u001b[38;5;34m30\u001b[0m, \u001b[38;5;34m30\u001b[0m, \u001b[38;5;34m32\u001b[0m)     │           \u001b[38;5;34m896\u001b[0m │\n",
              "├─────────────────────────────────┼────────────────────────┼───────────────┤\n",
              "│ max_pooling2d (\u001b[38;5;33mMaxPooling2D\u001b[0m)    │ (\u001b[38;5;45mNone\u001b[0m, \u001b[38;5;34m15\u001b[0m, \u001b[38;5;34m15\u001b[0m, \u001b[38;5;34m32\u001b[0m)     │             \u001b[38;5;34m0\u001b[0m │\n",
              "├─────────────────────────────────┼────────────────────────┼───────────────┤\n",
              "│ conv2d_1 (\u001b[38;5;33mConv2D\u001b[0m)               │ (\u001b[38;5;45mNone\u001b[0m, \u001b[38;5;34m13\u001b[0m, \u001b[38;5;34m13\u001b[0m, \u001b[38;5;34m64\u001b[0m)     │        \u001b[38;5;34m18,496\u001b[0m │\n",
              "├─────────────────────────────────┼────────────────────────┼───────────────┤\n",
              "│ max_pooling2d_1 (\u001b[38;5;33mMaxPooling2D\u001b[0m)  │ (\u001b[38;5;45mNone\u001b[0m, \u001b[38;5;34m6\u001b[0m, \u001b[38;5;34m6\u001b[0m, \u001b[38;5;34m64\u001b[0m)       │             \u001b[38;5;34m0\u001b[0m │\n",
              "├─────────────────────────────────┼────────────────────────┼───────────────┤\n",
              "│ conv2d_2 (\u001b[38;5;33mConv2D\u001b[0m)               │ (\u001b[38;5;45mNone\u001b[0m, \u001b[38;5;34m4\u001b[0m, \u001b[38;5;34m4\u001b[0m, \u001b[38;5;34m128\u001b[0m)      │        \u001b[38;5;34m73,856\u001b[0m │\n",
              "├─────────────────────────────────┼────────────────────────┼───────────────┤\n",
              "│ flatten (\u001b[38;5;33mFlatten\u001b[0m)               │ (\u001b[38;5;45mNone\u001b[0m, \u001b[38;5;34m2048\u001b[0m)           │             \u001b[38;5;34m0\u001b[0m │\n",
              "├─────────────────────────────────┼────────────────────────┼───────────────┤\n",
              "│ dense (\u001b[38;5;33mDense\u001b[0m)                   │ (\u001b[38;5;45mNone\u001b[0m, \u001b[38;5;34m64\u001b[0m)             │       \u001b[38;5;34m131,136\u001b[0m │\n",
              "├─────────────────────────────────┼────────────────────────┼───────────────┤\n",
              "│ dense_1 (\u001b[38;5;33mDense\u001b[0m)                 │ (\u001b[38;5;45mNone\u001b[0m, \u001b[38;5;34m10\u001b[0m)             │           \u001b[38;5;34m650\u001b[0m │\n",
              "└─────────────────────────────────┴────────────────────────┴───────────────┘\n"
            ],
            "text/html": [
              "<pre style=\"white-space:pre;overflow-x:auto;line-height:normal;font-family:Menlo,'DejaVu Sans Mono',consolas,'Courier New',monospace\">┏━━━━━━━━━━━━━━━━━━━━━━━━━━━━━━━━━┳━━━━━━━━━━━━━━━━━━━━━━━━┳━━━━━━━━━━━━━━━┓\n",
              "┃<span style=\"font-weight: bold\"> Layer (type)                    </span>┃<span style=\"font-weight: bold\"> Output Shape           </span>┃<span style=\"font-weight: bold\">       Param # </span>┃\n",
              "┡━━━━━━━━━━━━━━━━━━━━━━━━━━━━━━━━━╇━━━━━━━━━━━━━━━━━━━━━━━━╇━━━━━━━━━━━━━━━┩\n",
              "│ conv2d (<span style=\"color: #0087ff; text-decoration-color: #0087ff\">Conv2D</span>)                 │ (<span style=\"color: #00d7ff; text-decoration-color: #00d7ff\">None</span>, <span style=\"color: #00af00; text-decoration-color: #00af00\">30</span>, <span style=\"color: #00af00; text-decoration-color: #00af00\">30</span>, <span style=\"color: #00af00; text-decoration-color: #00af00\">32</span>)     │           <span style=\"color: #00af00; text-decoration-color: #00af00\">896</span> │\n",
              "├─────────────────────────────────┼────────────────────────┼───────────────┤\n",
              "│ max_pooling2d (<span style=\"color: #0087ff; text-decoration-color: #0087ff\">MaxPooling2D</span>)    │ (<span style=\"color: #00d7ff; text-decoration-color: #00d7ff\">None</span>, <span style=\"color: #00af00; text-decoration-color: #00af00\">15</span>, <span style=\"color: #00af00; text-decoration-color: #00af00\">15</span>, <span style=\"color: #00af00; text-decoration-color: #00af00\">32</span>)     │             <span style=\"color: #00af00; text-decoration-color: #00af00\">0</span> │\n",
              "├─────────────────────────────────┼────────────────────────┼───────────────┤\n",
              "│ conv2d_1 (<span style=\"color: #0087ff; text-decoration-color: #0087ff\">Conv2D</span>)               │ (<span style=\"color: #00d7ff; text-decoration-color: #00d7ff\">None</span>, <span style=\"color: #00af00; text-decoration-color: #00af00\">13</span>, <span style=\"color: #00af00; text-decoration-color: #00af00\">13</span>, <span style=\"color: #00af00; text-decoration-color: #00af00\">64</span>)     │        <span style=\"color: #00af00; text-decoration-color: #00af00\">18,496</span> │\n",
              "├─────────────────────────────────┼────────────────────────┼───────────────┤\n",
              "│ max_pooling2d_1 (<span style=\"color: #0087ff; text-decoration-color: #0087ff\">MaxPooling2D</span>)  │ (<span style=\"color: #00d7ff; text-decoration-color: #00d7ff\">None</span>, <span style=\"color: #00af00; text-decoration-color: #00af00\">6</span>, <span style=\"color: #00af00; text-decoration-color: #00af00\">6</span>, <span style=\"color: #00af00; text-decoration-color: #00af00\">64</span>)       │             <span style=\"color: #00af00; text-decoration-color: #00af00\">0</span> │\n",
              "├─────────────────────────────────┼────────────────────────┼───────────────┤\n",
              "│ conv2d_2 (<span style=\"color: #0087ff; text-decoration-color: #0087ff\">Conv2D</span>)               │ (<span style=\"color: #00d7ff; text-decoration-color: #00d7ff\">None</span>, <span style=\"color: #00af00; text-decoration-color: #00af00\">4</span>, <span style=\"color: #00af00; text-decoration-color: #00af00\">4</span>, <span style=\"color: #00af00; text-decoration-color: #00af00\">128</span>)      │        <span style=\"color: #00af00; text-decoration-color: #00af00\">73,856</span> │\n",
              "├─────────────────────────────────┼────────────────────────┼───────────────┤\n",
              "│ flatten (<span style=\"color: #0087ff; text-decoration-color: #0087ff\">Flatten</span>)               │ (<span style=\"color: #00d7ff; text-decoration-color: #00d7ff\">None</span>, <span style=\"color: #00af00; text-decoration-color: #00af00\">2048</span>)           │             <span style=\"color: #00af00; text-decoration-color: #00af00\">0</span> │\n",
              "├─────────────────────────────────┼────────────────────────┼───────────────┤\n",
              "│ dense (<span style=\"color: #0087ff; text-decoration-color: #0087ff\">Dense</span>)                   │ (<span style=\"color: #00d7ff; text-decoration-color: #00d7ff\">None</span>, <span style=\"color: #00af00; text-decoration-color: #00af00\">64</span>)             │       <span style=\"color: #00af00; text-decoration-color: #00af00\">131,136</span> │\n",
              "├─────────────────────────────────┼────────────────────────┼───────────────┤\n",
              "│ dense_1 (<span style=\"color: #0087ff; text-decoration-color: #0087ff\">Dense</span>)                 │ (<span style=\"color: #00d7ff; text-decoration-color: #00d7ff\">None</span>, <span style=\"color: #00af00; text-decoration-color: #00af00\">10</span>)             │           <span style=\"color: #00af00; text-decoration-color: #00af00\">650</span> │\n",
              "└─────────────────────────────────┴────────────────────────┴───────────────┘\n",
              "</pre>\n"
            ]
          },
          "metadata": {}
        },
        {
          "output_type": "display_data",
          "data": {
            "text/plain": [
              "\u001b[1m Total params: \u001b[0m\u001b[38;5;34m225,034\u001b[0m (879.04 KB)\n"
            ],
            "text/html": [
              "<pre style=\"white-space:pre;overflow-x:auto;line-height:normal;font-family:Menlo,'DejaVu Sans Mono',consolas,'Courier New',monospace\"><span style=\"font-weight: bold\"> Total params: </span><span style=\"color: #00af00; text-decoration-color: #00af00\">225,034</span> (879.04 KB)\n",
              "</pre>\n"
            ]
          },
          "metadata": {}
        },
        {
          "output_type": "display_data",
          "data": {
            "text/plain": [
              "\u001b[1m Trainable params: \u001b[0m\u001b[38;5;34m225,034\u001b[0m (879.04 KB)\n"
            ],
            "text/html": [
              "<pre style=\"white-space:pre;overflow-x:auto;line-height:normal;font-family:Menlo,'DejaVu Sans Mono',consolas,'Courier New',monospace\"><span style=\"font-weight: bold\"> Trainable params: </span><span style=\"color: #00af00; text-decoration-color: #00af00\">225,034</span> (879.04 KB)\n",
              "</pre>\n"
            ]
          },
          "metadata": {}
        },
        {
          "output_type": "display_data",
          "data": {
            "text/plain": [
              "\u001b[1m Non-trainable params: \u001b[0m\u001b[38;5;34m0\u001b[0m (0.00 B)\n"
            ],
            "text/html": [
              "<pre style=\"white-space:pre;overflow-x:auto;line-height:normal;font-family:Menlo,'DejaVu Sans Mono',consolas,'Courier New',monospace\"><span style=\"font-weight: bold\"> Non-trainable params: </span><span style=\"color: #00af00; text-decoration-color: #00af00\">0</span> (0.00 B)\n",
              "</pre>\n"
            ]
          },
          "metadata": {}
        },
        {
          "output_type": "stream",
          "name": "stdout",
          "text": [
            "None\n"
          ]
        }
      ]
    },
    {
      "cell_type": "code",
      "source": [
        "modelSecAPI.fit(x_train, y_train, batch_size=64, epochs=10, verbose=2)"
      ],
      "metadata": {
        "colab": {
          "base_uri": "https://localhost:8080/"
        },
        "id": "xQpRYOf3Q4sd",
        "outputId": "372885c9-6601-42ca-b11e-ddc4dd4c747b"
      },
      "execution_count": 7,
      "outputs": [
        {
          "output_type": "stream",
          "name": "stdout",
          "text": [
            "Epoch 1/10\n",
            "782/782 - 10s - 13ms/step - accuracy: 0.4064 - loss: 1.6316\n",
            "Epoch 2/10\n",
            "782/782 - 4s - 5ms/step - accuracy: 0.5334 - loss: 1.3110\n",
            "Epoch 3/10\n",
            "782/782 - 3s - 4ms/step - accuracy: 0.5865 - loss: 1.1694\n",
            "Epoch 4/10\n",
            "782/782 - 3s - 4ms/step - accuracy: 0.6212 - loss: 1.0784\n",
            "Epoch 5/10\n",
            "782/782 - 5s - 6ms/step - accuracy: 0.6485 - loss: 1.0017\n",
            "Epoch 6/10\n",
            "782/782 - 3s - 3ms/step - accuracy: 0.6727 - loss: 0.9349\n",
            "Epoch 7/10\n",
            "782/782 - 3s - 4ms/step - accuracy: 0.6934 - loss: 0.8813\n",
            "Epoch 8/10\n",
            "782/782 - 5s - 6ms/step - accuracy: 0.7101 - loss: 0.8420\n",
            "Epoch 9/10\n",
            "782/782 - 3s - 3ms/step - accuracy: 0.7235 - loss: 0.7983\n",
            "Epoch 10/10\n",
            "782/782 - 6s - 8ms/step - accuracy: 0.7342 - loss: 0.7658\n"
          ]
        },
        {
          "output_type": "execute_result",
          "data": {
            "text/plain": [
              "<keras.src.callbacks.history.History at 0x7ad28bd14050>"
            ]
          },
          "metadata": {},
          "execution_count": 7
        }
      ]
    },
    {
      "cell_type": "code",
      "source": [
        "modelSecAPI.evaluate(x_test, y_test, batch_size=64, verbose=2)"
      ],
      "metadata": {
        "colab": {
          "base_uri": "https://localhost:8080/"
        },
        "id": "IF93BNfTRUPg",
        "outputId": "673bc0a5-0cda-472b-ad62-8edf8ebc5c93"
      },
      "execution_count": 8,
      "outputs": [
        {
          "output_type": "stream",
          "name": "stdout",
          "text": [
            "157/157 - 2s - 10ms/step - accuracy: 0.6855 - loss: 0.9046\n"
          ]
        },
        {
          "output_type": "execute_result",
          "data": {
            "text/plain": [
              "[0.904586136341095, 0.6855000257492065]"
            ]
          },
          "metadata": {},
          "execution_count": 8
        }
      ]
    },
    {
      "cell_type": "code",
      "source": [
        "inputs = keras.Input(shape=(32, 32, 3))\n",
        "x = layers.Conv2D(32, 3,padding='same',kernel_regularizer=regularizers.L2(0.01))(inputs)\n",
        "x = layers.BatchNormalization()(x)\n",
        "x = keras.activations.relu(x)\n",
        "x = layers.MaxPooling2D()(x)\n",
        "x = layers.Conv2D(64, 3,padding='same',kernel_regularizer=regularizers.L2(0.01))(x)\n",
        "x = layers.BatchNormalization()(x)\n",
        "x = keras.activations.relu(x)\n",
        "x = layers.MaxPooling2D()(x)\n",
        "x = layers.Conv2D(128, 3,padding='same',kernel_regularizer=regularizers.L2(0.01))(x)\n",
        "x = layers.BatchNormalization()(x)\n",
        "x = keras.activations.relu(x)\n",
        "x = layers.Flatten()(x)\n",
        "x = layers.Dense(64, activation=\"relu\",kernel_regularizer=regularizers.L2(0.01))(x)\n",
        "x = layers.Dropout(0.5)(x)\n",
        "outputs = layers.Dense(10)(x)\n",
        "modelFuncAPI = keras.Model(inputs=inputs, outputs=outputs)"
      ],
      "metadata": {
        "id": "VqeTlHFMRWsM"
      },
      "execution_count": 11,
      "outputs": []
    },
    {
      "cell_type": "code",
      "source": [
        "modelFuncAPI.compile(\n",
        "    loss=keras.losses.SparseCategoricalCrossentropy(from_logits=True),\n",
        "    optimizer=keras.optimizers.Adam(learning_rate=3e-4),\n",
        "    metrics=[\"accuracy\"],\n",
        ")"
      ],
      "metadata": {
        "id": "Fm4G9OEybYH2"
      },
      "execution_count": 12,
      "outputs": []
    },
    {
      "cell_type": "code",
      "source": [
        "modelFuncAPI.fit(x_train, y_train, batch_size=64, epochs=150, verbose=2)"
      ],
      "metadata": {
        "colab": {
          "base_uri": "https://localhost:8080/"
        },
        "id": "0CwcBYMibcF4",
        "outputId": "fbd89c53-572f-4c96-b5c0-06a756e815d4"
      },
      "execution_count": 14,
      "outputs": [
        {
          "output_type": "stream",
          "name": "stdout",
          "text": [
            "Epoch 1/150\n",
            "782/782 - 7s - 8ms/step - accuracy: 0.3129 - loss: 3.0846\n",
            "Epoch 2/150\n",
            "782/782 - 3s - 4ms/step - accuracy: 0.4363 - loss: 1.9417\n",
            "Epoch 3/150\n",
            "782/782 - 3s - 4ms/step - accuracy: 0.4942 - loss: 1.6528\n",
            "Epoch 4/150\n",
            "782/782 - 4s - 5ms/step - accuracy: 0.5248 - loss: 1.5313\n",
            "Epoch 5/150\n",
            "782/782 - 5s - 6ms/step - accuracy: 0.5442 - loss: 1.4590\n",
            "Epoch 6/150\n",
            "782/782 - 5s - 7ms/step - accuracy: 0.5576 - loss: 1.4204\n",
            "Epoch 7/150\n",
            "782/782 - 5s - 6ms/step - accuracy: 0.5667 - loss: 1.3923\n",
            "Epoch 8/150\n",
            "782/782 - 3s - 4ms/step - accuracy: 0.5741 - loss: 1.3717\n",
            "Epoch 9/150\n",
            "782/782 - 4s - 4ms/step - accuracy: 0.5806 - loss: 1.3509\n",
            "Epoch 10/150\n",
            "782/782 - 3s - 4ms/step - accuracy: 0.5850 - loss: 1.3347\n",
            "Epoch 11/150\n",
            "782/782 - 5s - 6ms/step - accuracy: 0.5954 - loss: 1.3209\n",
            "Epoch 12/150\n",
            "782/782 - 6s - 7ms/step - accuracy: 0.6004 - loss: 1.2980\n",
            "Epoch 13/150\n",
            "782/782 - 5s - 6ms/step - accuracy: 0.6056 - loss: 1.2901\n",
            "Epoch 14/150\n",
            "782/782 - 3s - 4ms/step - accuracy: 0.6070 - loss: 1.2865\n",
            "Epoch 15/150\n",
            "782/782 - 5s - 7ms/step - accuracy: 0.6131 - loss: 1.2717\n",
            "Epoch 16/150\n",
            "782/782 - 3s - 4ms/step - accuracy: 0.6193 - loss: 1.2624\n",
            "Epoch 17/150\n",
            "782/782 - 3s - 4ms/step - accuracy: 0.6203 - loss: 1.2569\n",
            "Epoch 18/150\n",
            "782/782 - 5s - 7ms/step - accuracy: 0.6247 - loss: 1.2418\n",
            "Epoch 19/150\n",
            "782/782 - 5s - 6ms/step - accuracy: 0.6294 - loss: 1.2382\n",
            "Epoch 20/150\n",
            "782/782 - 6s - 7ms/step - accuracy: 0.6361 - loss: 1.2246\n",
            "Epoch 21/150\n",
            "782/782 - 5s - 6ms/step - accuracy: 0.6381 - loss: 1.2185\n",
            "Epoch 22/150\n",
            "782/782 - 3s - 4ms/step - accuracy: 0.6423 - loss: 1.2105\n",
            "Epoch 23/150\n",
            "782/782 - 5s - 7ms/step - accuracy: 0.6464 - loss: 1.1997\n",
            "Epoch 24/150\n",
            "782/782 - 5s - 6ms/step - accuracy: 0.6519 - loss: 1.1959\n",
            "Epoch 25/150\n",
            "782/782 - 6s - 7ms/step - accuracy: 0.6560 - loss: 1.1823\n",
            "Epoch 26/150\n",
            "782/782 - 3s - 4ms/step - accuracy: 0.6577 - loss: 1.1827\n",
            "Epoch 27/150\n",
            "782/782 - 3s - 4ms/step - accuracy: 0.6623 - loss: 1.1671\n",
            "Epoch 28/150\n",
            "782/782 - 3s - 4ms/step - accuracy: 0.6636 - loss: 1.1665\n",
            "Epoch 29/150\n",
            "782/782 - 5s - 6ms/step - accuracy: 0.6683 - loss: 1.1589\n",
            "Epoch 30/150\n",
            "782/782 - 3s - 4ms/step - accuracy: 0.6698 - loss: 1.1597\n",
            "Epoch 31/150\n",
            "782/782 - 3s - 4ms/step - accuracy: 0.6742 - loss: 1.1498\n",
            "Epoch 32/150\n",
            "782/782 - 4s - 5ms/step - accuracy: 0.6701 - loss: 1.1465\n",
            "Epoch 33/150\n",
            "782/782 - 5s - 6ms/step - accuracy: 0.6730 - loss: 1.1378\n",
            "Epoch 34/150\n",
            "782/782 - 3s - 4ms/step - accuracy: 0.6784 - loss: 1.1326\n",
            "Epoch 35/150\n",
            "782/782 - 4s - 5ms/step - accuracy: 0.6802 - loss: 1.1273\n",
            "Epoch 36/150\n",
            "782/782 - 3s - 4ms/step - accuracy: 0.6842 - loss: 1.1186\n",
            "Epoch 37/150\n",
            "782/782 - 3s - 4ms/step - accuracy: 0.6872 - loss: 1.1130\n",
            "Epoch 38/150\n",
            "782/782 - 6s - 7ms/step - accuracy: 0.6869 - loss: 1.1180\n",
            "Epoch 39/150\n",
            "782/782 - 5s - 6ms/step - accuracy: 0.6871 - loss: 1.1198\n",
            "Epoch 40/150\n",
            "782/782 - 3s - 4ms/step - accuracy: 0.6936 - loss: 1.1040\n",
            "Epoch 41/150\n",
            "782/782 - 5s - 7ms/step - accuracy: 0.6916 - loss: 1.1078\n",
            "Epoch 42/150\n",
            "782/782 - 5s - 7ms/step - accuracy: 0.6958 - loss: 1.1047\n",
            "Epoch 43/150\n",
            "782/782 - 5s - 7ms/step - accuracy: 0.6994 - loss: 1.1007\n",
            "Epoch 44/150\n",
            "782/782 - 3s - 4ms/step - accuracy: 0.6991 - loss: 1.0912\n",
            "Epoch 45/150\n",
            "782/782 - 3s - 4ms/step - accuracy: 0.7001 - loss: 1.0872\n",
            "Epoch 46/150\n",
            "782/782 - 6s - 7ms/step - accuracy: 0.6987 - loss: 1.0929\n",
            "Epoch 47/150\n",
            "782/782 - 5s - 6ms/step - accuracy: 0.7031 - loss: 1.0875\n",
            "Epoch 48/150\n",
            "782/782 - 3s - 4ms/step - accuracy: 0.7089 - loss: 1.0757\n",
            "Epoch 49/150\n",
            "782/782 - 5s - 7ms/step - accuracy: 0.7077 - loss: 1.0749\n",
            "Epoch 50/150\n",
            "782/782 - 3s - 4ms/step - accuracy: 0.7079 - loss: 1.0720\n",
            "Epoch 51/150\n",
            "782/782 - 3s - 4ms/step - accuracy: 0.7082 - loss: 1.0711\n",
            "Epoch 52/150\n",
            "782/782 - 5s - 6ms/step - accuracy: 0.7119 - loss: 1.0640\n",
            "Epoch 53/150\n",
            "782/782 - 5s - 7ms/step - accuracy: 0.7101 - loss: 1.0676\n",
            "Epoch 54/150\n",
            "782/782 - 4s - 5ms/step - accuracy: 0.7139 - loss: 1.0612\n",
            "Epoch 55/150\n",
            "782/782 - 3s - 4ms/step - accuracy: 0.7132 - loss: 1.0623\n",
            "Epoch 56/150\n",
            "782/782 - 3s - 4ms/step - accuracy: 0.7122 - loss: 1.0627\n",
            "Epoch 57/150\n",
            "782/782 - 3s - 4ms/step - accuracy: 0.7158 - loss: 1.0628\n",
            "Epoch 58/150\n",
            "782/782 - 4s - 5ms/step - accuracy: 0.7190 - loss: 1.0546\n",
            "Epoch 59/150\n",
            "782/782 - 3s - 4ms/step - accuracy: 0.7212 - loss: 1.0512\n",
            "Epoch 60/150\n",
            "782/782 - 3s - 4ms/step - accuracy: 0.7227 - loss: 1.0474\n",
            "Epoch 61/150\n",
            "782/782 - 6s - 7ms/step - accuracy: 0.7239 - loss: 1.0470\n",
            "Epoch 62/150\n",
            "782/782 - 5s - 6ms/step - accuracy: 0.7241 - loss: 1.0418\n",
            "Epoch 63/150\n",
            "782/782 - 5s - 7ms/step - accuracy: 0.7239 - loss: 1.0474\n",
            "Epoch 64/150\n",
            "782/782 - 5s - 6ms/step - accuracy: 0.7236 - loss: 1.0472\n",
            "Epoch 65/150\n",
            "782/782 - 3s - 4ms/step - accuracy: 0.7262 - loss: 1.0350\n",
            "Epoch 66/150\n",
            "782/782 - 6s - 7ms/step - accuracy: 0.7263 - loss: 1.0359\n",
            "Epoch 67/150\n",
            "782/782 - 5s - 6ms/step - accuracy: 0.7274 - loss: 1.0379\n",
            "Epoch 68/150\n",
            "782/782 - 5s - 7ms/step - accuracy: 0.7279 - loss: 1.0293\n",
            "Epoch 69/150\n",
            "782/782 - 5s - 6ms/step - accuracy: 0.7299 - loss: 1.0314\n",
            "Epoch 70/150\n",
            "782/782 - 5s - 7ms/step - accuracy: 0.7344 - loss: 1.0232\n",
            "Epoch 71/150\n",
            "782/782 - 5s - 7ms/step - accuracy: 0.7308 - loss: 1.0327\n",
            "Epoch 72/150\n",
            "782/782 - 5s - 6ms/step - accuracy: 0.7351 - loss: 1.0230\n",
            "Epoch 73/150\n",
            "782/782 - 3s - 4ms/step - accuracy: 0.7346 - loss: 1.0216\n",
            "Epoch 74/150\n",
            "782/782 - 5s - 7ms/step - accuracy: 0.7372 - loss: 1.0171\n",
            "Epoch 75/150\n",
            "782/782 - 3s - 4ms/step - accuracy: 0.7336 - loss: 1.0200\n",
            "Epoch 76/150\n",
            "782/782 - 3s - 4ms/step - accuracy: 0.7354 - loss: 1.0239\n",
            "Epoch 77/150\n",
            "782/782 - 4s - 5ms/step - accuracy: 0.7389 - loss: 1.0164\n",
            "Epoch 78/150\n",
            "782/782 - 5s - 6ms/step - accuracy: 0.7385 - loss: 1.0190\n",
            "Epoch 79/150\n",
            "782/782 - 6s - 7ms/step - accuracy: 0.7378 - loss: 1.0192\n",
            "Epoch 80/150\n",
            "782/782 - 5s - 6ms/step - accuracy: 0.7415 - loss: 1.0108\n",
            "Epoch 81/150\n",
            "782/782 - 5s - 7ms/step - accuracy: 0.7415 - loss: 1.0103\n",
            "Epoch 82/150\n",
            "782/782 - 5s - 6ms/step - accuracy: 0.7414 - loss: 1.0111\n",
            "Epoch 83/150\n",
            "782/782 - 5s - 7ms/step - accuracy: 0.7421 - loss: 1.0072\n",
            "Epoch 84/150\n",
            "782/782 - 5s - 7ms/step - accuracy: 0.7419 - loss: 1.0104\n",
            "Epoch 85/150\n",
            "782/782 - 5s - 6ms/step - accuracy: 0.7459 - loss: 1.0023\n",
            "Epoch 86/150\n",
            "782/782 - 6s - 7ms/step - accuracy: 0.7433 - loss: 1.0068\n",
            "Epoch 87/150\n",
            "782/782 - 5s - 6ms/step - accuracy: 0.7459 - loss: 1.0008\n",
            "Epoch 88/150\n",
            "782/782 - 3s - 4ms/step - accuracy: 0.7448 - loss: 0.9975\n",
            "Epoch 89/150\n",
            "782/782 - 5s - 7ms/step - accuracy: 0.7486 - loss: 1.0015\n",
            "Epoch 90/150\n",
            "782/782 - 3s - 4ms/step - accuracy: 0.7477 - loss: 0.9954\n",
            "Epoch 91/150\n",
            "782/782 - 3s - 4ms/step - accuracy: 0.7470 - loss: 0.9997\n",
            "Epoch 92/150\n",
            "782/782 - 4s - 5ms/step - accuracy: 0.7506 - loss: 0.9970\n",
            "Epoch 93/150\n",
            "782/782 - 5s - 6ms/step - accuracy: 0.7515 - loss: 0.9956\n",
            "Epoch 94/150\n",
            "782/782 - 5s - 7ms/step - accuracy: 0.7498 - loss: 0.9934\n",
            "Epoch 95/150\n",
            "782/782 - 4s - 5ms/step - accuracy: 0.7504 - loss: 0.9860\n",
            "Epoch 96/150\n",
            "782/782 - 5s - 6ms/step - accuracy: 0.7499 - loss: 0.9943\n",
            "Epoch 97/150\n",
            "782/782 - 6s - 7ms/step - accuracy: 0.7529 - loss: 0.9881\n",
            "Epoch 98/150\n",
            "782/782 - 3s - 4ms/step - accuracy: 0.7530 - loss: 0.9889\n",
            "Epoch 99/150\n",
            "782/782 - 4s - 5ms/step - accuracy: 0.7536 - loss: 0.9864\n",
            "Epoch 100/150\n",
            "782/782 - 3s - 4ms/step - accuracy: 0.7547 - loss: 0.9820\n",
            "Epoch 101/150\n",
            "782/782 - 5s - 7ms/step - accuracy: 0.7522 - loss: 0.9901\n",
            "Epoch 102/150\n",
            "782/782 - 6s - 7ms/step - accuracy: 0.7540 - loss: 0.9879\n",
            "Epoch 103/150\n",
            "782/782 - 6s - 7ms/step - accuracy: 0.7549 - loss: 0.9839\n",
            "Epoch 104/150\n",
            "782/782 - 4s - 5ms/step - accuracy: 0.7543 - loss: 0.9856\n",
            "Epoch 105/150\n",
            "782/782 - 6s - 7ms/step - accuracy: 0.7560 - loss: 0.9831\n",
            "Epoch 106/150\n",
            "782/782 - 3s - 4ms/step - accuracy: 0.7573 - loss: 0.9813\n",
            "Epoch 107/150\n",
            "782/782 - 5s - 7ms/step - accuracy: 0.7583 - loss: 0.9731\n",
            "Epoch 108/150\n",
            "782/782 - 4s - 5ms/step - accuracy: 0.7586 - loss: 0.9752\n",
            "Epoch 109/150\n",
            "782/782 - 5s - 6ms/step - accuracy: 0.7581 - loss: 0.9804\n",
            "Epoch 110/150\n",
            "782/782 - 3s - 4ms/step - accuracy: 0.7623 - loss: 0.9737\n",
            "Epoch 111/150\n",
            "782/782 - 4s - 5ms/step - accuracy: 0.7619 - loss: 0.9724\n",
            "Epoch 112/150\n",
            "782/782 - 5s - 6ms/step - accuracy: 0.7588 - loss: 0.9776\n",
            "Epoch 113/150\n",
            "782/782 - 3s - 4ms/step - accuracy: 0.7546 - loss: 0.9832\n",
            "Epoch 114/150\n",
            "782/782 - 4s - 5ms/step - accuracy: 0.7608 - loss: 0.9768\n",
            "Epoch 115/150\n",
            "782/782 - 5s - 6ms/step - accuracy: 0.7611 - loss: 0.9770\n",
            "Epoch 116/150\n",
            "782/782 - 3s - 4ms/step - accuracy: 0.7625 - loss: 0.9676\n",
            "Epoch 117/150\n",
            "782/782 - 4s - 5ms/step - accuracy: 0.7634 - loss: 0.9722\n",
            "Epoch 118/150\n",
            "782/782 - 4s - 5ms/step - accuracy: 0.7656 - loss: 0.9683\n",
            "Epoch 119/150\n",
            "782/782 - 3s - 4ms/step - accuracy: 0.7643 - loss: 0.9673\n",
            "Epoch 120/150\n",
            "782/782 - 3s - 4ms/step - accuracy: 0.7624 - loss: 0.9731\n",
            "Epoch 121/150\n",
            "782/782 - 4s - 5ms/step - accuracy: 0.7678 - loss: 0.9599\n",
            "Epoch 122/150\n",
            "782/782 - 3s - 4ms/step - accuracy: 0.7650 - loss: 0.9645\n",
            "Epoch 123/150\n",
            "782/782 - 3s - 4ms/step - accuracy: 0.7648 - loss: 0.9671\n",
            "Epoch 124/150\n",
            "782/782 - 6s - 7ms/step - accuracy: 0.7675 - loss: 0.9638\n",
            "Epoch 125/150\n",
            "782/782 - 5s - 6ms/step - accuracy: 0.7653 - loss: 0.9690\n",
            "Epoch 126/150\n",
            "782/782 - 3s - 4ms/step - accuracy: 0.7653 - loss: 0.9611\n",
            "Epoch 127/150\n",
            "782/782 - 4s - 5ms/step - accuracy: 0.7655 - loss: 0.9652\n",
            "Epoch 128/150\n",
            "782/782 - 3s - 4ms/step - accuracy: 0.7641 - loss: 0.9681\n",
            "Epoch 129/150\n",
            "782/782 - 3s - 4ms/step - accuracy: 0.7684 - loss: 0.9577\n",
            "Epoch 130/150\n",
            "782/782 - 6s - 7ms/step - accuracy: 0.7667 - loss: 0.9706\n",
            "Epoch 131/150\n",
            "782/782 - 5s - 6ms/step - accuracy: 0.7686 - loss: 0.9625\n",
            "Epoch 132/150\n",
            "782/782 - 3s - 4ms/step - accuracy: 0.7695 - loss: 0.9625\n",
            "Epoch 133/150\n",
            "782/782 - 6s - 7ms/step - accuracy: 0.7658 - loss: 0.9656\n",
            "Epoch 134/150\n",
            "782/782 - 5s - 6ms/step - accuracy: 0.7662 - loss: 0.9636\n",
            "Epoch 135/150\n",
            "782/782 - 3s - 4ms/step - accuracy: 0.7715 - loss: 0.9613\n",
            "Epoch 136/150\n",
            "782/782 - 4s - 5ms/step - accuracy: 0.7670 - loss: 0.9628\n",
            "Epoch 137/150\n",
            "782/782 - 5s - 6ms/step - accuracy: 0.7692 - loss: 0.9645\n",
            "Epoch 138/150\n",
            "782/782 - 3s - 4ms/step - accuracy: 0.7717 - loss: 0.9557\n",
            "Epoch 139/150\n",
            "782/782 - 4s - 5ms/step - accuracy: 0.7696 - loss: 0.9611\n",
            "Epoch 140/150\n",
            "782/782 - 3s - 4ms/step - accuracy: 0.7682 - loss: 0.9631\n",
            "Epoch 141/150\n",
            "782/782 - 3s - 4ms/step - accuracy: 0.7711 - loss: 0.9565\n",
            "Epoch 142/150\n",
            "782/782 - 6s - 7ms/step - accuracy: 0.7739 - loss: 0.9506\n",
            "Epoch 143/150\n",
            "782/782 - 5s - 6ms/step - accuracy: 0.7711 - loss: 0.9575\n",
            "Epoch 144/150\n",
            "782/782 - 5s - 7ms/step - accuracy: 0.7705 - loss: 0.9607\n",
            "Epoch 145/150\n",
            "782/782 - 4s - 5ms/step - accuracy: 0.7718 - loss: 0.9581\n",
            "Epoch 146/150\n",
            "782/782 - 3s - 4ms/step - accuracy: 0.7729 - loss: 0.9573\n",
            "Epoch 147/150\n",
            "782/782 - 5s - 7ms/step - accuracy: 0.7696 - loss: 0.9641\n",
            "Epoch 148/150\n",
            "782/782 - 5s - 6ms/step - accuracy: 0.7708 - loss: 0.9541\n",
            "Epoch 149/150\n",
            "782/782 - 5s - 7ms/step - accuracy: 0.7720 - loss: 0.9544\n",
            "Epoch 150/150\n",
            "782/782 - 4s - 5ms/step - accuracy: 0.7741 - loss: 0.9470\n"
          ]
        },
        {
          "output_type": "execute_result",
          "data": {
            "text/plain": [
              "<keras.src.callbacks.history.History at 0x7ad287c53050>"
            ]
          },
          "metadata": {},
          "execution_count": 14
        }
      ]
    },
    {
      "cell_type": "code",
      "source": [
        "modelFuncAPI.evaluate(x_test, y_test, batch_size=64, verbose=2)"
      ],
      "metadata": {
        "id": "9EhUIeh2beqG",
        "colab": {
          "base_uri": "https://localhost:8080/"
        },
        "outputId": "8a0a2fc2-63c9-468c-c689-99e85634a804"
      },
      "execution_count": 15,
      "outputs": [
        {
          "output_type": "stream",
          "name": "stdout",
          "text": [
            "157/157 - 2s - 12ms/step - accuracy: 0.7333 - loss: 1.1116\n"
          ]
        },
        {
          "output_type": "execute_result",
          "data": {
            "text/plain": [
              "[1.111561894416809, 0.733299970626831]"
            ]
          },
          "metadata": {},
          "execution_count": 15
        }
      ]
    },
    {
      "cell_type": "code",
      "source": [],
      "metadata": {
        "id": "JQazmo_8blmH"
      },
      "execution_count": null,
      "outputs": []
    },
    {
      "cell_type": "markdown",
      "source": [
        "# RNNs, GRUs, LSTMs and Bidirectionality"
      ],
      "metadata": {
        "id": "mfwBAMFMT39-"
      }
    },
    {
      "cell_type": "code",
      "source": [
        "from tensorflow.keras.datasets import mnist"
      ],
      "metadata": {
        "id": "tGrnnXkeYRqf"
      },
      "execution_count": 16,
      "outputs": []
    },
    {
      "cell_type": "code",
      "source": [
        "(x_train,y_train) ,(x_test,y_test) = mnist.load_data()\n",
        "x_train = x_train.astype(\"float32\")/255.0\n",
        "x_test = x_test.astype(\"float32\")/255.0"
      ],
      "metadata": {
        "colab": {
          "base_uri": "https://localhost:8080/"
        },
        "id": "PAnub00hYTiF",
        "outputId": "09b74454-1b1a-4d42-f998-d0571bf8945b"
      },
      "execution_count": 17,
      "outputs": [
        {
          "output_type": "stream",
          "name": "stdout",
          "text": [
            "Downloading data from https://storage.googleapis.com/tensorflow/tf-keras-datasets/mnist.npz\n",
            "\u001b[1m11490434/11490434\u001b[0m \u001b[32m━━━━━━━━━━━━━━━━━━━━\u001b[0m\u001b[37m\u001b[0m \u001b[1m2s\u001b[0m 0us/step\n"
          ]
        }
      ]
    },
    {
      "cell_type": "code",
      "source": [
        "model = keras.Sequential()\n",
        "\n",
        "model.add(keras.Input(shape=(None,28)))\n",
        "model.add(layers.SimpleRNN(512,return_sequences=True,activation='relu'))\n",
        "model.add(layers.SimpleRNN(512,activation='relu'))\n",
        "model.add(layers.Dense(10))"
      ],
      "metadata": {
        "id": "Gw4LlUiOhj7E"
      },
      "execution_count": 23,
      "outputs": []
    },
    {
      "cell_type": "code",
      "source": [
        "print(model.summary())"
      ],
      "metadata": {
        "colab": {
          "base_uri": "https://localhost:8080/",
          "height": 242
        },
        "id": "DCaoAfXThk11",
        "outputId": "54597edb-1751-4c52-a1e4-74d692bc0d65"
      },
      "execution_count": 24,
      "outputs": [
        {
          "output_type": "display_data",
          "data": {
            "text/plain": [
              "\u001b[1mModel: \"sequential_2\"\u001b[0m\n"
            ],
            "text/html": [
              "<pre style=\"white-space:pre;overflow-x:auto;line-height:normal;font-family:Menlo,'DejaVu Sans Mono',consolas,'Courier New',monospace\"><span style=\"font-weight: bold\">Model: \"sequential_2\"</span>\n",
              "</pre>\n"
            ]
          },
          "metadata": {}
        },
        {
          "output_type": "display_data",
          "data": {
            "text/plain": [
              "┏━━━━━━━━━━━━━━━━━━━━━━━━━━━━━━━━━┳━━━━━━━━━━━━━━━━━━━━━━━━┳━━━━━━━━━━━━━━━┓\n",
              "┃\u001b[1m \u001b[0m\u001b[1mLayer (type)                   \u001b[0m\u001b[1m \u001b[0m┃\u001b[1m \u001b[0m\u001b[1mOutput Shape          \u001b[0m\u001b[1m \u001b[0m┃\u001b[1m \u001b[0m\u001b[1m      Param #\u001b[0m\u001b[1m \u001b[0m┃\n",
              "┡━━━━━━━━━━━━━━━━━━━━━━━━━━━━━━━━━╇━━━━━━━━━━━━━━━━━━━━━━━━╇━━━━━━━━━━━━━━━┩\n",
              "│ simple_rnn_2 (\u001b[38;5;33mSimpleRNN\u001b[0m)        │ (\u001b[38;5;45mNone\u001b[0m, \u001b[38;5;45mNone\u001b[0m, \u001b[38;5;34m512\u001b[0m)      │       \u001b[38;5;34m276,992\u001b[0m │\n",
              "├─────────────────────────────────┼────────────────────────┼───────────────┤\n",
              "│ simple_rnn_3 (\u001b[38;5;33mSimpleRNN\u001b[0m)        │ (\u001b[38;5;45mNone\u001b[0m, \u001b[38;5;34m512\u001b[0m)            │       \u001b[38;5;34m524,800\u001b[0m │\n",
              "├─────────────────────────────────┼────────────────────────┼───────────────┤\n",
              "│ dense_7 (\u001b[38;5;33mDense\u001b[0m)                 │ (\u001b[38;5;45mNone\u001b[0m, \u001b[38;5;34m10\u001b[0m)             │         \u001b[38;5;34m5,130\u001b[0m │\n",
              "└─────────────────────────────────┴────────────────────────┴───────────────┘\n"
            ],
            "text/html": [
              "<pre style=\"white-space:pre;overflow-x:auto;line-height:normal;font-family:Menlo,'DejaVu Sans Mono',consolas,'Courier New',monospace\">┏━━━━━━━━━━━━━━━━━━━━━━━━━━━━━━━━━┳━━━━━━━━━━━━━━━━━━━━━━━━┳━━━━━━━━━━━━━━━┓\n",
              "┃<span style=\"font-weight: bold\"> Layer (type)                    </span>┃<span style=\"font-weight: bold\"> Output Shape           </span>┃<span style=\"font-weight: bold\">       Param # </span>┃\n",
              "┡━━━━━━━━━━━━━━━━━━━━━━━━━━━━━━━━━╇━━━━━━━━━━━━━━━━━━━━━━━━╇━━━━━━━━━━━━━━━┩\n",
              "│ simple_rnn_2 (<span style=\"color: #0087ff; text-decoration-color: #0087ff\">SimpleRNN</span>)        │ (<span style=\"color: #00d7ff; text-decoration-color: #00d7ff\">None</span>, <span style=\"color: #00d7ff; text-decoration-color: #00d7ff\">None</span>, <span style=\"color: #00af00; text-decoration-color: #00af00\">512</span>)      │       <span style=\"color: #00af00; text-decoration-color: #00af00\">276,992</span> │\n",
              "├─────────────────────────────────┼────────────────────────┼───────────────┤\n",
              "│ simple_rnn_3 (<span style=\"color: #0087ff; text-decoration-color: #0087ff\">SimpleRNN</span>)        │ (<span style=\"color: #00d7ff; text-decoration-color: #00d7ff\">None</span>, <span style=\"color: #00af00; text-decoration-color: #00af00\">512</span>)            │       <span style=\"color: #00af00; text-decoration-color: #00af00\">524,800</span> │\n",
              "├─────────────────────────────────┼────────────────────────┼───────────────┤\n",
              "│ dense_7 (<span style=\"color: #0087ff; text-decoration-color: #0087ff\">Dense</span>)                 │ (<span style=\"color: #00d7ff; text-decoration-color: #00d7ff\">None</span>, <span style=\"color: #00af00; text-decoration-color: #00af00\">10</span>)             │         <span style=\"color: #00af00; text-decoration-color: #00af00\">5,130</span> │\n",
              "└─────────────────────────────────┴────────────────────────┴───────────────┘\n",
              "</pre>\n"
            ]
          },
          "metadata": {}
        },
        {
          "output_type": "display_data",
          "data": {
            "text/plain": [
              "\u001b[1m Total params: \u001b[0m\u001b[38;5;34m806,922\u001b[0m (3.08 MB)\n"
            ],
            "text/html": [
              "<pre style=\"white-space:pre;overflow-x:auto;line-height:normal;font-family:Menlo,'DejaVu Sans Mono',consolas,'Courier New',monospace\"><span style=\"font-weight: bold\"> Total params: </span><span style=\"color: #00af00; text-decoration-color: #00af00\">806,922</span> (3.08 MB)\n",
              "</pre>\n"
            ]
          },
          "metadata": {}
        },
        {
          "output_type": "display_data",
          "data": {
            "text/plain": [
              "\u001b[1m Trainable params: \u001b[0m\u001b[38;5;34m806,922\u001b[0m (3.08 MB)\n"
            ],
            "text/html": [
              "<pre style=\"white-space:pre;overflow-x:auto;line-height:normal;font-family:Menlo,'DejaVu Sans Mono',consolas,'Courier New',monospace\"><span style=\"font-weight: bold\"> Trainable params: </span><span style=\"color: #00af00; text-decoration-color: #00af00\">806,922</span> (3.08 MB)\n",
              "</pre>\n"
            ]
          },
          "metadata": {}
        },
        {
          "output_type": "display_data",
          "data": {
            "text/plain": [
              "\u001b[1m Non-trainable params: \u001b[0m\u001b[38;5;34m0\u001b[0m (0.00 B)\n"
            ],
            "text/html": [
              "<pre style=\"white-space:pre;overflow-x:auto;line-height:normal;font-family:Menlo,'DejaVu Sans Mono',consolas,'Courier New',monospace\"><span style=\"font-weight: bold\"> Non-trainable params: </span><span style=\"color: #00af00; text-decoration-color: #00af00\">0</span> (0.00 B)\n",
              "</pre>\n"
            ]
          },
          "metadata": {}
        },
        {
          "output_type": "stream",
          "name": "stdout",
          "text": [
            "None\n"
          ]
        }
      ]
    },
    {
      "cell_type": "code",
      "source": [
        "model.compile(\n",
        "    loss=keras.losses.SparseCategoricalCrossentropy(from_logits=True),\n",
        "    optimizer=keras.optimizers.Adam(learning_rate=0.001),\n",
        "    metrics=[\"accuracy\"],\n",
        ")"
      ],
      "metadata": {
        "id": "6NGjwZ5PiJsr"
      },
      "execution_count": 25,
      "outputs": []
    },
    {
      "cell_type": "code",
      "source": [
        "model.fit(x_train, y_train, batch_size=64, epochs=20,verbose=2)"
      ],
      "metadata": {
        "colab": {
          "base_uri": "https://localhost:8080/"
        },
        "collapsed": true,
        "id": "D1fbwph5iKOS",
        "outputId": "d999057b-e273-4505-b99f-b7cba9f9b43e"
      },
      "execution_count": 26,
      "outputs": [
        {
          "output_type": "stream",
          "name": "stdout",
          "text": [
            "Epoch 1/20\n",
            "938/938 - 16s - 17ms/step - accuracy: 0.8977 - loss: 0.3272\n",
            "Epoch 2/20\n",
            "938/938 - 11s - 11ms/step - accuracy: 0.9622 - loss: 0.1376\n",
            "Epoch 3/20\n",
            "938/938 - 11s - 11ms/step - accuracy: 0.9672 - loss: 0.1237\n",
            "Epoch 4/20\n",
            "938/938 - 20s - 22ms/step - accuracy: 0.9682 - loss: 0.1156\n",
            "Epoch 5/20\n",
            "938/938 - 21s - 22ms/step - accuracy: 0.9743 - loss: 0.0965\n",
            "Epoch 6/20\n",
            "938/938 - 20s - 22ms/step - accuracy: 0.9766 - loss: 0.0866\n",
            "Epoch 7/20\n",
            "938/938 - 11s - 11ms/step - accuracy: 0.9771 - loss: 0.0853\n",
            "Epoch 8/20\n",
            "938/938 - 20s - 22ms/step - accuracy: 0.9790 - loss: 0.0766\n",
            "Epoch 9/20\n",
            "938/938 - 20s - 22ms/step - accuracy: 0.9776 - loss: 0.0827\n",
            "Epoch 10/20\n",
            "938/938 - 21s - 22ms/step - accuracy: 0.9803 - loss: 0.0706\n",
            "Epoch 11/20\n",
            "938/938 - 11s - 11ms/step - accuracy: 0.9825 - loss: 0.0649\n",
            "Epoch 12/20\n",
            "938/938 - 11s - 11ms/step - accuracy: 0.9821 - loss: 0.0672\n",
            "Epoch 13/20\n",
            "938/938 - 21s - 22ms/step - accuracy: 0.9801 - loss: 0.0726\n",
            "Epoch 14/20\n",
            "938/938 - 20s - 22ms/step - accuracy: 0.9863 - loss: 0.0513\n",
            "Epoch 15/20\n",
            "938/938 - 21s - 22ms/step - accuracy: 0.9851 - loss: 0.0544\n",
            "Epoch 16/20\n",
            "938/938 - 20s - 22ms/step - accuracy: 0.9838 - loss: 0.0590\n",
            "Epoch 17/20\n",
            "938/938 - 11s - 11ms/step - accuracy: 0.9846 - loss: 0.0547\n",
            "Epoch 18/20\n",
            "938/938 - 21s - 22ms/step - accuracy: 0.9849 - loss: 0.0556\n",
            "Epoch 19/20\n",
            "938/938 - 20s - 22ms/step - accuracy: 0.9869 - loss: 0.0473\n",
            "Epoch 20/20\n",
            "938/938 - 11s - 11ms/step - accuracy: 0.9869 - loss: 0.0467\n"
          ]
        },
        {
          "output_type": "execute_result",
          "data": {
            "text/plain": [
              "<keras.src.callbacks.history.History at 0x7ad273e3b8d0>"
            ]
          },
          "metadata": {},
          "execution_count": 26
        }
      ]
    },
    {
      "cell_type": "code",
      "source": [
        "model.evaluate(x_test, y_test, batch_size=64, verbose=2)"
      ],
      "metadata": {
        "colab": {
          "base_uri": "https://localhost:8080/"
        },
        "id": "g_UEKT4ViVph",
        "outputId": "b200a0c9-1398-4e73-c50e-49824c5ed843"
      },
      "execution_count": 27,
      "outputs": [
        {
          "output_type": "stream",
          "name": "stdout",
          "text": [
            "157/157 - 2s - 12ms/step - accuracy: 0.9795 - loss: 0.0866\n"
          ]
        },
        {
          "output_type": "execute_result",
          "data": {
            "text/plain": [
              "[0.08660094439983368, 0.9794999957084656]"
            ]
          },
          "metadata": {},
          "execution_count": 27
        }
      ]
    },
    {
      "cell_type": "markdown",
      "source": [
        "## LSTM"
      ],
      "metadata": {
        "id": "mpbtWiHqlbuk"
      }
    },
    {
      "cell_type": "code",
      "source": [
        "model = keras.Sequential()\n",
        "\n",
        "model.add(keras.Input(shape=(None,28)))\n",
        "model.add(layers.LSTM(256,return_sequences=True,activation='tanh'))\n",
        "model.add(layers.LSTM(256,activation='tanh'))\n",
        "model.add(layers.Dense(10))\n",
        "print(model.summary())\n",
        "model.compile(\n",
        "    loss=keras.losses.SparseCategoricalCrossentropy(from_logits=True),\n",
        "    optimizer=keras.optimizers.Adam(learning_rate=0.001),\n",
        "    metrics=[\"accuracy\"],\n",
        ")"
      ],
      "metadata": {
        "colab": {
          "base_uri": "https://localhost:8080/",
          "height": 242
        },
        "id": "5fQiA4APjDvI",
        "outputId": "b7ccca45-87d1-458f-da24-faf8a0375137"
      },
      "execution_count": 28,
      "outputs": [
        {
          "output_type": "display_data",
          "data": {
            "text/plain": [
              "\u001b[1mModel: \"sequential_3\"\u001b[0m\n"
            ],
            "text/html": [
              "<pre style=\"white-space:pre;overflow-x:auto;line-height:normal;font-family:Menlo,'DejaVu Sans Mono',consolas,'Courier New',monospace\"><span style=\"font-weight: bold\">Model: \"sequential_3\"</span>\n",
              "</pre>\n"
            ]
          },
          "metadata": {}
        },
        {
          "output_type": "display_data",
          "data": {
            "text/plain": [
              "┏━━━━━━━━━━━━━━━━━━━━━━━━━━━━━━━━━┳━━━━━━━━━━━━━━━━━━━━━━━━┳━━━━━━━━━━━━━━━┓\n",
              "┃\u001b[1m \u001b[0m\u001b[1mLayer (type)                   \u001b[0m\u001b[1m \u001b[0m┃\u001b[1m \u001b[0m\u001b[1mOutput Shape          \u001b[0m\u001b[1m \u001b[0m┃\u001b[1m \u001b[0m\u001b[1m      Param #\u001b[0m\u001b[1m \u001b[0m┃\n",
              "┡━━━━━━━━━━━━━━━━━━━━━━━━━━━━━━━━━╇━━━━━━━━━━━━━━━━━━━━━━━━╇━━━━━━━━━━━━━━━┩\n",
              "│ lstm (\u001b[38;5;33mLSTM\u001b[0m)                     │ (\u001b[38;5;45mNone\u001b[0m, \u001b[38;5;45mNone\u001b[0m, \u001b[38;5;34m256\u001b[0m)      │       \u001b[38;5;34m291,840\u001b[0m │\n",
              "├─────────────────────────────────┼────────────────────────┼───────────────┤\n",
              "│ lstm_1 (\u001b[38;5;33mLSTM\u001b[0m)                   │ (\u001b[38;5;45mNone\u001b[0m, \u001b[38;5;34m256\u001b[0m)            │       \u001b[38;5;34m525,312\u001b[0m │\n",
              "├─────────────────────────────────┼────────────────────────┼───────────────┤\n",
              "│ dense_8 (\u001b[38;5;33mDense\u001b[0m)                 │ (\u001b[38;5;45mNone\u001b[0m, \u001b[38;5;34m10\u001b[0m)             │         \u001b[38;5;34m2,570\u001b[0m │\n",
              "└─────────────────────────────────┴────────────────────────┴───────────────┘\n"
            ],
            "text/html": [
              "<pre style=\"white-space:pre;overflow-x:auto;line-height:normal;font-family:Menlo,'DejaVu Sans Mono',consolas,'Courier New',monospace\">┏━━━━━━━━━━━━━━━━━━━━━━━━━━━━━━━━━┳━━━━━━━━━━━━━━━━━━━━━━━━┳━━━━━━━━━━━━━━━┓\n",
              "┃<span style=\"font-weight: bold\"> Layer (type)                    </span>┃<span style=\"font-weight: bold\"> Output Shape           </span>┃<span style=\"font-weight: bold\">       Param # </span>┃\n",
              "┡━━━━━━━━━━━━━━━━━━━━━━━━━━━━━━━━━╇━━━━━━━━━━━━━━━━━━━━━━━━╇━━━━━━━━━━━━━━━┩\n",
              "│ lstm (<span style=\"color: #0087ff; text-decoration-color: #0087ff\">LSTM</span>)                     │ (<span style=\"color: #00d7ff; text-decoration-color: #00d7ff\">None</span>, <span style=\"color: #00d7ff; text-decoration-color: #00d7ff\">None</span>, <span style=\"color: #00af00; text-decoration-color: #00af00\">256</span>)      │       <span style=\"color: #00af00; text-decoration-color: #00af00\">291,840</span> │\n",
              "├─────────────────────────────────┼────────────────────────┼───────────────┤\n",
              "│ lstm_1 (<span style=\"color: #0087ff; text-decoration-color: #0087ff\">LSTM</span>)                   │ (<span style=\"color: #00d7ff; text-decoration-color: #00d7ff\">None</span>, <span style=\"color: #00af00; text-decoration-color: #00af00\">256</span>)            │       <span style=\"color: #00af00; text-decoration-color: #00af00\">525,312</span> │\n",
              "├─────────────────────────────────┼────────────────────────┼───────────────┤\n",
              "│ dense_8 (<span style=\"color: #0087ff; text-decoration-color: #0087ff\">Dense</span>)                 │ (<span style=\"color: #00d7ff; text-decoration-color: #00d7ff\">None</span>, <span style=\"color: #00af00; text-decoration-color: #00af00\">10</span>)             │         <span style=\"color: #00af00; text-decoration-color: #00af00\">2,570</span> │\n",
              "└─────────────────────────────────┴────────────────────────┴───────────────┘\n",
              "</pre>\n"
            ]
          },
          "metadata": {}
        },
        {
          "output_type": "display_data",
          "data": {
            "text/plain": [
              "\u001b[1m Total params: \u001b[0m\u001b[38;5;34m819,722\u001b[0m (3.13 MB)\n"
            ],
            "text/html": [
              "<pre style=\"white-space:pre;overflow-x:auto;line-height:normal;font-family:Menlo,'DejaVu Sans Mono',consolas,'Courier New',monospace\"><span style=\"font-weight: bold\"> Total params: </span><span style=\"color: #00af00; text-decoration-color: #00af00\">819,722</span> (3.13 MB)\n",
              "</pre>\n"
            ]
          },
          "metadata": {}
        },
        {
          "output_type": "display_data",
          "data": {
            "text/plain": [
              "\u001b[1m Trainable params: \u001b[0m\u001b[38;5;34m819,722\u001b[0m (3.13 MB)\n"
            ],
            "text/html": [
              "<pre style=\"white-space:pre;overflow-x:auto;line-height:normal;font-family:Menlo,'DejaVu Sans Mono',consolas,'Courier New',monospace\"><span style=\"font-weight: bold\"> Trainable params: </span><span style=\"color: #00af00; text-decoration-color: #00af00\">819,722</span> (3.13 MB)\n",
              "</pre>\n"
            ]
          },
          "metadata": {}
        },
        {
          "output_type": "display_data",
          "data": {
            "text/plain": [
              "\u001b[1m Non-trainable params: \u001b[0m\u001b[38;5;34m0\u001b[0m (0.00 B)\n"
            ],
            "text/html": [
              "<pre style=\"white-space:pre;overflow-x:auto;line-height:normal;font-family:Menlo,'DejaVu Sans Mono',consolas,'Courier New',monospace\"><span style=\"font-weight: bold\"> Non-trainable params: </span><span style=\"color: #00af00; text-decoration-color: #00af00\">0</span> (0.00 B)\n",
              "</pre>\n"
            ]
          },
          "metadata": {}
        },
        {
          "output_type": "stream",
          "name": "stdout",
          "text": [
            "None\n"
          ]
        }
      ]
    },
    {
      "cell_type": "code",
      "source": [
        "model.fit(x_train, y_train, batch_size=64, epochs=20,verbose=2)"
      ],
      "metadata": {
        "colab": {
          "base_uri": "https://localhost:8080/"
        },
        "id": "0wt0zSlAlZHt",
        "outputId": "8e38e521-2649-4f36-bfe1-e2294e0dc0fb"
      },
      "execution_count": 29,
      "outputs": [
        {
          "output_type": "stream",
          "name": "stdout",
          "text": [
            "Epoch 1/20\n",
            "938/938 - 11s - 12ms/step - accuracy: 0.9000 - loss: 0.3058\n",
            "Epoch 2/20\n",
            "938/938 - 8s - 8ms/step - accuracy: 0.9739 - loss: 0.0860\n",
            "Epoch 3/20\n",
            "938/938 - 10s - 11ms/step - accuracy: 0.9819 - loss: 0.0596\n",
            "Epoch 4/20\n",
            "938/938 - 10s - 11ms/step - accuracy: 0.9861 - loss: 0.0449\n",
            "Epoch 5/20\n",
            "938/938 - 10s - 11ms/step - accuracy: 0.9879 - loss: 0.0391\n",
            "Epoch 6/20\n",
            "938/938 - 11s - 12ms/step - accuracy: 0.9900 - loss: 0.0330\n",
            "Epoch 7/20\n",
            "938/938 - 10s - 10ms/step - accuracy: 0.9917 - loss: 0.0274\n",
            "Epoch 8/20\n",
            "938/938 - 10s - 11ms/step - accuracy: 0.9926 - loss: 0.0247\n",
            "Epoch 9/20\n",
            "938/938 - 10s - 11ms/step - accuracy: 0.9935 - loss: 0.0211\n",
            "Epoch 10/20\n",
            "938/938 - 10s - 11ms/step - accuracy: 0.9939 - loss: 0.0188\n",
            "Epoch 11/20\n",
            "938/938 - 8s - 8ms/step - accuracy: 0.9944 - loss: 0.0179\n",
            "Epoch 12/20\n",
            "938/938 - 8s - 8ms/step - accuracy: 0.9954 - loss: 0.0153\n",
            "Epoch 13/20\n",
            "938/938 - 10s - 11ms/step - accuracy: 0.9953 - loss: 0.0146\n",
            "Epoch 14/20\n",
            "938/938 - 10s - 11ms/step - accuracy: 0.9960 - loss: 0.0124\n",
            "Epoch 15/20\n",
            "938/938 - 10s - 11ms/step - accuracy: 0.9966 - loss: 0.0116\n",
            "Epoch 16/20\n",
            "938/938 - 11s - 11ms/step - accuracy: 0.9967 - loss: 0.0107\n",
            "Epoch 17/20\n",
            "938/938 - 10s - 11ms/step - accuracy: 0.9967 - loss: 0.0103\n",
            "Epoch 18/20\n",
            "938/938 - 10s - 11ms/step - accuracy: 0.9968 - loss: 0.0103\n",
            "Epoch 19/20\n",
            "938/938 - 10s - 11ms/step - accuracy: 0.9973 - loss: 0.0086\n",
            "Epoch 20/20\n",
            "938/938 - 10s - 11ms/step - accuracy: 0.9972 - loss: 0.0086\n"
          ]
        },
        {
          "output_type": "execute_result",
          "data": {
            "text/plain": [
              "<keras.src.callbacks.history.History at 0x7ad274156290>"
            ]
          },
          "metadata": {},
          "execution_count": 29
        }
      ]
    },
    {
      "cell_type": "code",
      "source": [
        "model.evaluate(x_test, y_test, batch_size=2, verbose=2)"
      ],
      "metadata": {
        "colab": {
          "base_uri": "https://localhost:8080/"
        },
        "id": "szW39BGhlaRB",
        "outputId": "f32f707a-ec4e-4393-c6dc-6578e381aa96"
      },
      "execution_count": 31,
      "outputs": [
        {
          "output_type": "stream",
          "name": "stdout",
          "text": [
            "5000/5000 - 19s - 4ms/step - accuracy: 0.9902 - loss: 0.0427\n"
          ]
        },
        {
          "output_type": "execute_result",
          "data": {
            "text/plain": [
              "[0.042721331119537354, 0.9901999831199646]"
            ]
          },
          "metadata": {},
          "execution_count": 31
        }
      ]
    },
    {
      "cell_type": "code",
      "source": [],
      "metadata": {
        "id": "3B_YJLVGlebC"
      },
      "execution_count": null,
      "outputs": []
    }
  ]
}